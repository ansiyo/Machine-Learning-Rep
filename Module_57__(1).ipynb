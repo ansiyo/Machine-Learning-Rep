{
  "nbformat": 4,
  "nbformat_minor": 0,
  "metadata": {
    "colab": {
      "provenance": [],
      "include_colab_link": true
    },
    "kernelspec": {
      "name": "python3",
      "display_name": "Python 3"
    },
    "language_info": {
      "name": "python"
    }
  },
  "cells": [
    {
      "cell_type": "markdown",
      "metadata": {
        "id": "view-in-github",
        "colab_type": "text"
      },
      "source": [
        "<a href=\"https://colab.research.google.com/github/ansiyo/Machine-Learning-Rep/blob/main/Module_57__(1).ipynb\" target=\"_parent\"><img src=\"https://colab.research.google.com/assets/colab-badge.svg\" alt=\"Open In Colab\"/></a>"
      ]
    },
    {
      "cell_type": "markdown",
      "source": [
        "Problem Statement:\n",
        "Suppose a company produces two products: Product A and Product B. Each product requires resources and yields profit. The goal is to maximize profit, while staying within resource limitations.\n",
        "\n",
        "Product A yields a profit of $40 per unit.\n",
        "Product B yields a profit of $30 per unit.\n",
        "Producing one unit of Product A requires 2 units of Resource 1 and 1 unit of Resource 2.\n",
        "Producing one unit of Product B requires 1 unit of Resource 1 and 2 units of Resource 2.\n",
        "The company has 100 units of Resource 1 and 80 units of Resource 2 available.\n",
        "We want to maximize the total profit while respecting the resource constraints.\n",
        "Mathematical Formulation:\n",
        "Objective Function:\n",
        "Maximize Z=40A+30B\n",
        "Where\n",
        "A is the number of units of Product A, and\n",
        "B is the number of units of Product B.\n",
        "Constraints: 2A+B≤100 (Resource 1 constraint)\n",
        "              A+2B≤80 (Resource 2 constraint)\n",
        "              A≥0 and B≥0 (Non-negativity constraint)"
      ],
      "metadata": {
        "id": "8vY2MojJQMjI"
      }
    },
    {
      "cell_type": "code",
      "execution_count": null,
      "metadata": {
        "id": "TUkc5qnpP72N",
        "colab": {
          "base_uri": "https://localhost:8080/"
        },
        "outputId": "a9bafb26-b39b-4260-cc32-711a771dcc49"
      },
      "outputs": [
        {
          "output_type": "stream",
          "name": "stdout",
          "text": [
            "Collecting pulp\n",
            "  Downloading PuLP-2.9.0-py3-none-any.whl.metadata (5.4 kB)\n",
            "Downloading PuLP-2.9.0-py3-none-any.whl (17.7 MB)\n",
            "\u001b[2K   \u001b[90m━━━━━━━━━━━━━━━━━━━━━━━━━━━━━━━━━━━━━━━━\u001b[0m \u001b[32m17.7/17.7 MB\u001b[0m \u001b[31m22.9 MB/s\u001b[0m eta \u001b[36m0:00:00\u001b[0m\n",
            "\u001b[?25hInstalling collected packages: pulp\n",
            "Successfully installed pulp-2.9.0\n",
            "Optimal number of Product A: 40.0\n",
            "Optimal number of Product B: 20.0\n",
            "Maximum Profit: 2200.0\n"
          ]
        }
      ],
      "source": [
        "# Install the pulp library\n",
        "!pip install pulp\n",
        "\n",
        "import pulp\n",
        "\n",
        "# Step 1: Define the problem\n",
        "lp_problem = pulp.LpProblem(\"Maximize_Profit\", pulp.LpMaximize)\n",
        "# \"Maximize_Profit\": A string that represents the name of the problem (you can name it anything meaningful to your problem).\n",
        "# pulp.LpMaximize: Specifies that this is a maximization problem. In linear programming, you either maximize or minimize an objective function. In this case, we want to maximize profit.\n",
        "\n",
        "# Step 2: Define decision variables (Product A and Product B)\n",
        "A = pulp.LpVariable('A', lowBound=0, cat='Continuous')\n",
        "B = pulp.LpVariable('B', lowBound=0, cat='Continuous')\n",
        "# pulp.LpVariable('A', lowBound=0) defines the variable A. The parameter lowBound=0 ensures that the number of products produced cannot be negative (i.e., non-negativity constraint).\n",
        "# cat='Continuous' specifies that these variables can take any continuous values (i.e., fractional units are allowed).\n",
        "\n",
        "# Step 3: Define the objective function (maximize profit)\n",
        "lp_problem += 40 * A + 30 * B, \"Profit\"\n",
        "# Profit=40×A+30×B\n",
        "# This means each unit of Product A yields $40 profit, and each unit of Product B yields $30 profit. The goal is to maximize this total profit by choosing appropriate values for A and B, given the constraints.\n",
        "\n",
        "# Step 4: Define the constraints\n",
        "lp_problem += 2 * A + B <= 100, \"Resource_1\"\n",
        "lp_problem += A + 2 * B <= 80, \"Resource_2\"\n",
        "\n",
        "# Step 5: Solve the problem\n",
        "lp_problem.solve()\n",
        "\n",
        "# Step 6: Output the results\n",
        "print(f\"Optimal number of Product A: {pulp.value(A)}\")\n",
        "print(f\"Optimal number of Product B: {pulp.value(B)}\")\n",
        "print(f\"Maximum Profit: {pulp.value(lp_problem.objective)}\")"
      ]
    },
    {
      "cell_type": "markdown",
      "source": [
        "Profit=40×40+30×20=1600+600=2200\n",
        "Resource 1: 2(40)+20=80+20=100 → This uses all 100 units of Resource 1 (constraint satisfied).\n",
        "Resource 2: 40+2(20)=40+40=80 → This uses all 80 units of Resource 2 (constraint satisfied)."
      ],
      "metadata": {
        "id": "uS55mpRUTGmo"
      }
    },
    {
      "cell_type": "markdown",
      "source": [],
      "metadata": {
        "id": "IK_G2gBJYROt"
      }
    },
    {
      "cell_type": "markdown",
      "source": [
        "Minimize Production Cost\n",
        "A factory produces two products, X and Y. The goal is to minimize the cost of production while meeting certain demand requirements and resource constraints.\n",
        "\n",
        "Cost of producing one unit of X: $50\n",
        "Cost of producing one unit of Y: $70\n",
        "Demand: At least 200 units of X and 300 units of Y are required.\n",
        "Resource constraints: A maximum of 800 hours of labor is available, and the production of one unit of X requires 5 hours of labor, while the production of one unit of Y requires 8 hours.\n",
        "Mathematical Formulation:\n",
        "Objective Function:Minimize Cost=50X+70Y\n",
        "Constraints:X≥200 (Demand for X)\n",
        "            Y≥300 (Demand for Y)\n",
        "            5X+8Y≤800 (Labor hours constraint)"
      ],
      "metadata": {
        "id": "VTlPZacbTjI4"
      }
    },
    {
      "cell_type": "code",
      "source": [
        "import pulp\n",
        "\n",
        "# Define the problem\n",
        "lp_problem = pulp.LpProblem(\"Minimize_Cost\", pulp.LpMinimize)\n",
        "\n",
        "# Decision variables\n",
        "X = pulp.LpVariable('X', lowBound=0, cat='Continuous')\n",
        "Y = pulp.LpVariable('Y', lowBound=0, cat='Continuous')\n",
        "\n",
        "# Objective function\n",
        "lp_problem += 50 * X + 70 * Y, \"Total Cost\"\n",
        "\n",
        "# Constraints\n",
        "lp_problem += X >= 200, \"Demand for X\"\n",
        "lp_problem += Y >= 300, \"Demand for Y\"\n",
        "lp_problem += 5 * X + 8 * Y <= 800, \"Labor Constraint\"\n",
        "\n",
        "# Solve the problem\n",
        "lp_problem.solve()\n",
        "\n",
        "# Output the results\n",
        "print(f\"Optimal number of Product X: {pulp.value(X)}\")\n",
        "print(f\"Optimal number of Product Y: {pulp.value(Y)}\")\n",
        "print(f\"Minimum Cost: {pulp.value(lp_problem.objective)}\")"
      ],
      "metadata": {
        "id": "cWOqZVonQDeK",
        "colab": {
          "base_uri": "https://localhost:8080/"
        },
        "outputId": "1d088053-058a-4b24-dd05-7f19699dbce9"
      },
      "execution_count": null,
      "outputs": [
        {
          "output_type": "stream",
          "name": "stdout",
          "text": [
            "Optimal number of Product X: 200.0\n",
            "Optimal number of Product Y: 300.0\n",
            "Minimum Cost: 31000.0\n"
          ]
        }
      ]
    },
    {
      "cell_type": "markdown",
      "source": [
        "The objective is to minimize the cost.\n",
        "Product X costs $50 per unit.\n",
        "Product Y costs $70 per unit.\n",
        "The constraints are:\n",
        "X≥200 (at least 200 units of Product X)\n",
        "Y≥300 (at least 300 units of Product Y)\n",
        "5X+8Y≤800 (labor hours constraint)\n",
        "Output Breakdown:\n",
        "Optimal Values:\n",
        "Product X = 200 units\n",
        "Product Y = 300 units\n",
        "Minimum Cost Calculation:\n",
        "To calculate the total cost based on the number of products produced:\n",
        "Total Cost=50×200+70×300=10,000+21,000=31,000\n",
        "Thus, the minimum cost of producing 200 units of Product X and 300 units of Product Y is $31,000.\n",
        "\n",
        "Labor Constraint:\n",
        "The labor constraint states that the total labor hours should not exceed 800. We can check if this constraint is satisfied:\n",
        "5X+8Y=5×200+8×300=1000+2400=3400\n",
        "This means the total labor hours required is 3,400, which exceeds the limit of 800 hours.\n",
        "\n"
      ],
      "metadata": {
        "id": "SdHIqwAvWU2P"
      }
    },
    {
      "cell_type": "markdown",
      "source": [],
      "metadata": {
        "id": "cMjs90QiW6zO"
      }
    },
    {
      "cell_type": "markdown",
      "source": [
        "**EXAMPLES BY OWN**\n",
        "\n",
        "  **1 ** Maximize Nutrient Intake\n",
        "A dietitian needs to create a diet plan that maximizes the intake of two key nutrients, N1 and N2, while meeting the dietary constraints.\n",
        "\n",
        "Food A: 3 units of N1, 4 units of N2, cost $20 per unit\n",
        "Food B: 5 units of N1, 2 units of N2, cost $30 per unit\n",
        "Constraints: No more than 15 units of Food A and 10 units of Food B can be consumed, and the total cost should not exceed $400.\n",
        "Mathematical Formulation:\n",
        "Objective Function:\n",
        "Maximize Nutrients=3A+5B\n",
        "Constraints:\n",
        "20A+30B≤400 (Budget constraint)\n",
        "A≤15 (Food A limit)\n",
        "B≤10 (Food B limit)"
      ],
      "metadata": {
        "id": "2R5nLAUuW69q"
      }
    },
    {
      "cell_type": "markdown",
      "source": [
        " ** 2** Maximize Production with Integer Variables\n",
        "A small company manufactures two products: P1 and P2. Each product requires labor and materials. The company wants to maximize the number of products produced but must stick to integer solutions, as only whole units can be produced.\n",
        "\n",
        "P1: Requires 2 hours of labor and 3 units of materials.\n",
        "P2: Requires 4 hours of labor and 2 units of materials.\n",
        "Constraints: The company has 20 hours of labor and 15 units of materials available.\n",
        "Mathematical Formulation:\n",
        "Objective Function:\n",
        "Maximize Production=P1+P2\n",
        "Constraints:\n",
        "2P1+4P2≤20 (Labor constraint)\n",
        "3P1+2P2≤15 (Materials constraint)\n",
        "P1,P2 are integers."
      ],
      "metadata": {
        "id": "oeXYFw-dXrD6"
      }
    }
  ]
}