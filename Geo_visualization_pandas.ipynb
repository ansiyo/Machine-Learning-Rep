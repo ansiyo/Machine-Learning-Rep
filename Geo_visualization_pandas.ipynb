{
  "nbformat": 4,
  "nbformat_minor": 0,
  "metadata": {
    "colab": {
      "provenance": [],
      "authorship_tag": "ABX9TyOwnUfrea5XxK+E0zXuBGaO",
      "include_colab_link": true
    },
    "kernelspec": {
      "name": "python3",
      "display_name": "Python 3"
    },
    "language_info": {
      "name": "python"
    }
  },
  "cells": [
    {
      "cell_type": "markdown",
      "metadata": {
        "id": "view-in-github",
        "colab_type": "text"
      },
      "source": [
        "<a href=\"https://colab.research.google.com/github/ansiyo/Machine-Learning-Rep/blob/main/Geo_visualization_pandas.ipynb\" target=\"_parent\"><img src=\"https://colab.research.google.com/assets/colab-badge.svg\" alt=\"Open In Colab\"/></a>"
      ]
    },
    {
      "cell_type": "code",
      "execution_count": null,
      "metadata": {
        "colab": {
          "base_uri": "https://localhost:8080/"
        },
        "id": "rt1sTNkdt5rt",
        "outputId": "c5e74fd3-d879-451a-f5d9-deaa6bf366b3"
      },
      "outputs": [
        {
          "output_type": "stream",
          "name": "stdout",
          "text": [
            "Requirement already satisfied: geopandas in /usr/local/lib/python3.11/dist-packages (1.0.1)\n",
            "Requirement already satisfied: numpy>=1.22 in /usr/local/lib/python3.11/dist-packages (from geopandas) (1.26.4)\n",
            "Requirement already satisfied: pyogrio>=0.7.2 in /usr/local/lib/python3.11/dist-packages (from geopandas) (0.10.0)\n",
            "Requirement already satisfied: packaging in /usr/local/lib/python3.11/dist-packages (from geopandas) (24.2)\n",
            "Requirement already satisfied: pandas>=1.4.0 in /usr/local/lib/python3.11/dist-packages (from geopandas) (2.2.2)\n",
            "Requirement already satisfied: pyproj>=3.3.0 in /usr/local/lib/python3.11/dist-packages (from geopandas) (3.7.0)\n",
            "Requirement already satisfied: shapely>=2.0.0 in /usr/local/lib/python3.11/dist-packages (from geopandas) (2.0.7)\n",
            "Requirement already satisfied: python-dateutil>=2.8.2 in /usr/local/lib/python3.11/dist-packages (from pandas>=1.4.0->geopandas) (2.8.2)\n",
            "Requirement already satisfied: pytz>=2020.1 in /usr/local/lib/python3.11/dist-packages (from pandas>=1.4.0->geopandas) (2025.1)\n",
            "Requirement already satisfied: tzdata>=2022.7 in /usr/local/lib/python3.11/dist-packages (from pandas>=1.4.0->geopandas) (2025.1)\n",
            "Requirement already satisfied: certifi in /usr/local/lib/python3.11/dist-packages (from pyogrio>=0.7.2->geopandas) (2025.1.31)\n",
            "Requirement already satisfied: six>=1.5 in /usr/local/lib/python3.11/dist-packages (from python-dateutil>=2.8.2->pandas>=1.4.0->geopandas) (1.17.0)\n"
          ]
        }
      ],
      "source": [
        "!pip install geopandas"
      ]
    },
    {
      "cell_type": "code",
      "source": [
        "import matplotlib.pyplot as plt\n",
        "import geopandas\n",
        "from cartopy import crs as ccrs\n",
        "from geodatasets import get_path\n",
        "\n",
        "path = get_path(\"/content/New_Shapefile.shp\")\n",
        "df = geopandas.read_file(path)"
      ],
      "metadata": {
        "colab": {
          "base_uri": "https://localhost:8080/",
          "height": 385
        },
        "id": "Q_7nh7f719rt",
        "outputId": "2471511b-dbf0-41b7-bf09-50d5304bae70"
      },
      "execution_count": null,
      "outputs": [
        {
          "output_type": "error",
          "ename": "ModuleNotFoundError",
          "evalue": "No module named 'cartopy'",
          "traceback": [
            "\u001b[0;31m---------------------------------------------------------------------------\u001b[0m",
            "\u001b[0;31mModuleNotFoundError\u001b[0m                       Traceback (most recent call last)",
            "\u001b[0;32m<ipython-input-17-a422d2e26a4c>\u001b[0m in \u001b[0;36m<cell line: 0>\u001b[0;34m()\u001b[0m\n\u001b[1;32m      1\u001b[0m \u001b[0;32mimport\u001b[0m \u001b[0mmatplotlib\u001b[0m\u001b[0;34m.\u001b[0m\u001b[0mpyplot\u001b[0m \u001b[0;32mas\u001b[0m \u001b[0mplt\u001b[0m\u001b[0;34m\u001b[0m\u001b[0;34m\u001b[0m\u001b[0m\n\u001b[1;32m      2\u001b[0m \u001b[0;32mimport\u001b[0m \u001b[0mgeopandas\u001b[0m\u001b[0;34m\u001b[0m\u001b[0;34m\u001b[0m\u001b[0m\n\u001b[0;32m----> 3\u001b[0;31m \u001b[0;32mfrom\u001b[0m \u001b[0mcartopy\u001b[0m \u001b[0;32mimport\u001b[0m \u001b[0mcrs\u001b[0m \u001b[0;32mas\u001b[0m \u001b[0mccrs\u001b[0m\u001b[0;34m\u001b[0m\u001b[0;34m\u001b[0m\u001b[0m\n\u001b[0m\u001b[1;32m      4\u001b[0m \u001b[0;32mfrom\u001b[0m \u001b[0mgeodatasets\u001b[0m \u001b[0;32mimport\u001b[0m \u001b[0mget_path\u001b[0m\u001b[0;34m\u001b[0m\u001b[0;34m\u001b[0m\u001b[0m\n\u001b[1;32m      5\u001b[0m \u001b[0;34m\u001b[0m\u001b[0m\n",
            "\u001b[0;31mModuleNotFoundError\u001b[0m: No module named 'cartopy'",
            "",
            "\u001b[0;31m---------------------------------------------------------------------------\u001b[0;32m\nNOTE: If your import is failing due to a missing package, you can\nmanually install dependencies using either !pip or !apt.\n\nTo install cartopy, click the button below.\n\u001b[0;31m---------------------------------------------------------------------------\u001b[0m\n"
          ],
          "errorDetails": {
            "actions": [
              {
                "action": "open_snippet",
                "actionText": "Install cartopy",
                "snippetFilter": "cartopy"
              }
            ]
          }
        }
      ]
    },
    {
      "cell_type": "code",
      "source": [
        "!pip install geopandas\n",
        "!pip install cartopy # This line was added to install cartopy\n",
        "\n",
        "import matplotlib.pyplot as plt\n",
        "import geopandas\n",
        "from cartopy import crs as ccrs # This import should now wor\n",
        "\n",
        "path = get_path(\"/content/New_Shapefile.shp\")\n",
        "df = geopandas.read_file(path)"
      ],
      "metadata": {
        "colab": {
          "base_uri": "https://localhost:8080/",
          "height": 740
        },
        "id": "g24ahxLL2nFo",
        "outputId": "db420ae3-7f6a-4bdc-afb9-ae0ca8970ead"
      },
      "execution_count": null,
      "outputs": [
        {
          "output_type": "stream",
          "name": "stdout",
          "text": [
            "Requirement already satisfied: geopandas in /usr/local/lib/python3.11/dist-packages (1.0.1)\n",
            "Requirement already satisfied: numpy>=1.22 in /usr/local/lib/python3.11/dist-packages (from geopandas) (1.26.4)\n",
            "Requirement already satisfied: pyogrio>=0.7.2 in /usr/local/lib/python3.11/dist-packages (from geopandas) (0.10.0)\n",
            "Requirement already satisfied: packaging in /usr/local/lib/python3.11/dist-packages (from geopandas) (24.2)\n",
            "Requirement already satisfied: pandas>=1.4.0 in /usr/local/lib/python3.11/dist-packages (from geopandas) (2.2.2)\n",
            "Requirement already satisfied: pyproj>=3.3.0 in /usr/local/lib/python3.11/dist-packages (from geopandas) (3.7.0)\n",
            "Requirement already satisfied: shapely>=2.0.0 in /usr/local/lib/python3.11/dist-packages (from geopandas) (2.0.7)\n",
            "Requirement already satisfied: python-dateutil>=2.8.2 in /usr/local/lib/python3.11/dist-packages (from pandas>=1.4.0->geopandas) (2.8.2)\n",
            "Requirement already satisfied: pytz>=2020.1 in /usr/local/lib/python3.11/dist-packages (from pandas>=1.4.0->geopandas) (2025.1)\n",
            "Requirement already satisfied: tzdata>=2022.7 in /usr/local/lib/python3.11/dist-packages (from pandas>=1.4.0->geopandas) (2025.1)\n",
            "Requirement already satisfied: certifi in /usr/local/lib/python3.11/dist-packages (from pyogrio>=0.7.2->geopandas) (2025.1.31)\n",
            "Requirement already satisfied: six>=1.5 in /usr/local/lib/python3.11/dist-packages (from python-dateutil>=2.8.2->pandas>=1.4.0->geopandas) (1.17.0)\n",
            "Requirement already satisfied: cartopy in /usr/local/lib/python3.11/dist-packages (0.24.1)\n",
            "Requirement already satisfied: numpy>=1.23 in /usr/local/lib/python3.11/dist-packages (from cartopy) (1.26.4)\n",
            "Requirement already satisfied: matplotlib>=3.6 in /usr/local/lib/python3.11/dist-packages (from cartopy) (3.10.0)\n",
            "Requirement already satisfied: shapely>=1.8 in /usr/local/lib/python3.11/dist-packages (from cartopy) (2.0.7)\n",
            "Requirement already satisfied: packaging>=21 in /usr/local/lib/python3.11/dist-packages (from cartopy) (24.2)\n",
            "Requirement already satisfied: pyshp>=2.3 in /usr/local/lib/python3.11/dist-packages (from cartopy) (2.3.1)\n",
            "Requirement already satisfied: pyproj>=3.3.1 in /usr/local/lib/python3.11/dist-packages (from cartopy) (3.7.0)\n",
            "Requirement already satisfied: contourpy>=1.0.1 in /usr/local/lib/python3.11/dist-packages (from matplotlib>=3.6->cartopy) (1.3.1)\n",
            "Requirement already satisfied: cycler>=0.10 in /usr/local/lib/python3.11/dist-packages (from matplotlib>=3.6->cartopy) (0.12.1)\n",
            "Requirement already satisfied: fonttools>=4.22.0 in /usr/local/lib/python3.11/dist-packages (from matplotlib>=3.6->cartopy) (4.55.8)\n",
            "Requirement already satisfied: kiwisolver>=1.3.1 in /usr/local/lib/python3.11/dist-packages (from matplotlib>=3.6->cartopy) (1.4.8)\n",
            "Requirement already satisfied: pillow>=8 in /usr/local/lib/python3.11/dist-packages (from matplotlib>=3.6->cartopy) (11.1.0)\n",
            "Requirement already satisfied: pyparsing>=2.3.1 in /usr/local/lib/python3.11/dist-packages (from matplotlib>=3.6->cartopy) (3.2.1)\n",
            "Requirement already satisfied: python-dateutil>=2.7 in /usr/local/lib/python3.11/dist-packages (from matplotlib>=3.6->cartopy) (2.8.2)\n",
            "Requirement already satisfied: certifi in /usr/local/lib/python3.11/dist-packages (from pyproj>=3.3.1->cartopy) (2025.1.31)\n",
            "Requirement already satisfied: six>=1.5 in /usr/local/lib/python3.11/dist-packages (from python-dateutil>=2.7->matplotlib>=3.6->cartopy) (1.17.0)\n"
          ]
        },
        {
          "output_type": "error",
          "ename": "NameError",
          "evalue": "name 'get_path' is not defined",
          "traceback": [
            "\u001b[0;31m---------------------------------------------------------------------------\u001b[0m",
            "\u001b[0;31mNameError\u001b[0m                                 Traceback (most recent call last)",
            "\u001b[0;32m<ipython-input-19-774d4e63a8cd>\u001b[0m in \u001b[0;36m<cell line: 0>\u001b[0;34m()\u001b[0m\n\u001b[1;32m      6\u001b[0m \u001b[0;32mfrom\u001b[0m \u001b[0mcartopy\u001b[0m \u001b[0;32mimport\u001b[0m \u001b[0mcrs\u001b[0m \u001b[0;32mas\u001b[0m \u001b[0mccrs\u001b[0m \u001b[0;31m# This import should now wor\u001b[0m\u001b[0;34m\u001b[0m\u001b[0;34m\u001b[0m\u001b[0m\n\u001b[1;32m      7\u001b[0m \u001b[0;34m\u001b[0m\u001b[0m\n\u001b[0;32m----> 8\u001b[0;31m \u001b[0mpath\u001b[0m \u001b[0;34m=\u001b[0m \u001b[0mget_path\u001b[0m\u001b[0;34m(\u001b[0m\u001b[0;34m\"/content/New_Shapefile.shp\"\u001b[0m\u001b[0;34m)\u001b[0m\u001b[0;34m\u001b[0m\u001b[0;34m\u001b[0m\u001b[0m\n\u001b[0m\u001b[1;32m      9\u001b[0m \u001b[0mdf\u001b[0m \u001b[0;34m=\u001b[0m \u001b[0mgeopandas\u001b[0m\u001b[0;34m.\u001b[0m\u001b[0mread_file\u001b[0m\u001b[0;34m(\u001b[0m\u001b[0mpath\u001b[0m\u001b[0;34m)\u001b[0m\u001b[0;34m\u001b[0m\u001b[0;34m\u001b[0m\u001b[0m\n",
            "\u001b[0;31mNameError\u001b[0m: name 'get_path' is not defined"
          ]
        }
      ]
    },
    {
      "cell_type": "code",
      "source": [
        "!pip install geodatasets"
      ],
      "metadata": {
        "colab": {
          "base_uri": "https://localhost:8080/"
        },
        "id": "qI1E4T2U3Rff",
        "outputId": "ec01b34a-8610-480c-eb47-673cbba29fb7"
      },
      "execution_count": null,
      "outputs": [
        {
          "output_type": "stream",
          "name": "stdout",
          "text": [
            "Collecting geodatasets\n",
            "  Downloading geodatasets-2024.8.0-py3-none-any.whl.metadata (5.4 kB)\n",
            "Requirement already satisfied: pooch in /usr/local/lib/python3.11/dist-packages (from geodatasets) (1.8.2)\n",
            "Requirement already satisfied: platformdirs>=2.5.0 in /usr/local/lib/python3.11/dist-packages (from pooch->geodatasets) (4.3.6)\n",
            "Requirement already satisfied: packaging>=20.0 in /usr/local/lib/python3.11/dist-packages (from pooch->geodatasets) (24.2)\n",
            "Requirement already satisfied: requests>=2.19.0 in /usr/local/lib/python3.11/dist-packages (from pooch->geodatasets) (2.32.3)\n",
            "Requirement already satisfied: charset-normalizer<4,>=2 in /usr/local/lib/python3.11/dist-packages (from requests>=2.19.0->pooch->geodatasets) (3.4.1)\n",
            "Requirement already satisfied: idna<4,>=2.5 in /usr/local/lib/python3.11/dist-packages (from requests>=2.19.0->pooch->geodatasets) (3.10)\n",
            "Requirement already satisfied: urllib3<3,>=1.21.1 in /usr/local/lib/python3.11/dist-packages (from requests>=2.19.0->pooch->geodatasets) (2.3.0)\n",
            "Requirement already satisfied: certifi>=2017.4.17 in /usr/local/lib/python3.11/dist-packages (from requests>=2.19.0->pooch->geodatasets) (2025.1.31)\n",
            "Downloading geodatasets-2024.8.0-py3-none-any.whl (20 kB)\n",
            "Installing collected packages: geodatasets\n",
            "Successfully installed geodatasets-2024.8.0\n"
          ]
        }
      ]
    },
    {
      "cell_type": "code",
      "source": [
        "from geodatasets import get_path"
      ],
      "metadata": {
        "id": "690Ax2WT3W7F"
      },
      "execution_count": null,
      "outputs": []
    },
    {
      "cell_type": "code",
      "source": [
        "import matplotlib.pyplot as plt\n",
        "import geopandas\n",
        "from cartopy import crs as ccrs\n",
        "from geodatasets import get_path # Make sure to import get_path\n",
        "\n",
        "path = get_path(\"naturalearth.land\")\n",
        "df = geopandas.read_file(path)"
      ],
      "metadata": {
        "colab": {
          "base_uri": "https://localhost:8080/"
        },
        "id": "8WN8GwWY3h3O",
        "outputId": "f7f97ef6-dee0-43f0-c78c-b9ac85b03dcf"
      },
      "execution_count": null,
      "outputs": [
        {
          "output_type": "stream",
          "name": "stderr",
          "text": [
            "Downloading file 'ne_110m_land.zip' from 'https://naciscdn.org/naturalearth/110m/physical/ne_110m_land.zip' to '/root/.cache/geodatasets'.\n"
          ]
        }
      ]
    },
    {
      "cell_type": "code",
      "source": [
        "path=get_path(\"geodata airbnb\")"
      ],
      "metadata": {
        "colab": {
          "base_uri": "https://localhost:8080/",
          "height": 301
        },
        "id": "wDwM_Rdg8ByM",
        "outputId": "35e07fbb-bcb3-401a-e513-f116bc020ff1"
      },
      "execution_count": null,
      "outputs": [
        {
          "output_type": "error",
          "ename": "ValueError",
          "evalue": "No matching item found for the query 'geodata airbnb'.",
          "traceback": [
            "\u001b[0;31m---------------------------------------------------------------------------\u001b[0m",
            "\u001b[0;31mValueError\u001b[0m                                Traceback (most recent call last)",
            "\u001b[0;32m<ipython-input-25-d8460e0134c4>\u001b[0m in \u001b[0;36m<cell line: 0>\u001b[0;34m()\u001b[0m\n\u001b[0;32m----> 1\u001b[0;31m \u001b[0mpath\u001b[0m\u001b[0;34m=\u001b[0m\u001b[0mget_path\u001b[0m\u001b[0;34m(\u001b[0m\u001b[0;34m\"geodata airbnb\"\u001b[0m\u001b[0;34m)\u001b[0m\u001b[0;34m\u001b[0m\u001b[0;34m\u001b[0m\u001b[0m\n\u001b[0m",
            "\u001b[0;32m/usr/local/lib/python3.11/dist-packages/geodatasets/api.py\u001b[0m in \u001b[0;36mget_path\u001b[0;34m(name)\u001b[0m\n\u001b[1;32m     84\u001b[0m     \u001b[0;34m'/Users/martin/Library/Caches/geodatasets/airbnb.zip'\u001b[0m\u001b[0;34m\u001b[0m\u001b[0;34m\u001b[0m\u001b[0m\n\u001b[1;32m     85\u001b[0m     \"\"\"\n\u001b[0;32m---> 86\u001b[0;31m     \u001b[0mdataset\u001b[0m \u001b[0;34m=\u001b[0m \u001b[0mdata\u001b[0m\u001b[0;34m.\u001b[0m\u001b[0mquery_name\u001b[0m\u001b[0;34m(\u001b[0m\u001b[0mname\u001b[0m\u001b[0;34m)\u001b[0m\u001b[0;34m\u001b[0m\u001b[0;34m\u001b[0m\u001b[0m\n\u001b[0m\u001b[1;32m     87\u001b[0m     \u001b[0;32mreturn\u001b[0m \u001b[0mdataset\u001b[0m\u001b[0;34m.\u001b[0m\u001b[0mpath\u001b[0m\u001b[0;34m\u001b[0m\u001b[0;34m\u001b[0m\u001b[0m\n\u001b[1;32m     88\u001b[0m \u001b[0;34m\u001b[0m\u001b[0m\n",
            "\u001b[0;32m/usr/local/lib/python3.11/dist-packages/geodatasets/lib.py\u001b[0m in \u001b[0;36mquery_name\u001b[0;34m(self, name)\u001b[0m\n\u001b[1;32m    120\u001b[0m             \u001b[0;32mreturn\u001b[0m \u001b[0mxyz_flat_lower\u001b[0m\u001b[0;34m[\u001b[0m\u001b[0mname_clean\u001b[0m\u001b[0;34m]\u001b[0m\u001b[0;34m\u001b[0m\u001b[0;34m\u001b[0m\u001b[0m\n\u001b[1;32m    121\u001b[0m \u001b[0;34m\u001b[0m\u001b[0m\n\u001b[0;32m--> 122\u001b[0;31m         \u001b[0;32mraise\u001b[0m \u001b[0mValueError\u001b[0m\u001b[0;34m(\u001b[0m\u001b[0;34mf\"No matching item found for the query '{name}'.\"\u001b[0m\u001b[0;34m)\u001b[0m\u001b[0;34m\u001b[0m\u001b[0;34m\u001b[0m\u001b[0m\n\u001b[0m\u001b[1;32m    123\u001b[0m \u001b[0;34m\u001b[0m\u001b[0m\n\u001b[1;32m    124\u001b[0m     def filter(\n",
            "\u001b[0;31mValueError\u001b[0m: No matching item found for the query 'geodata airbnb'."
          ]
        }
      ]
    },
    {
      "cell_type": "code",
      "source": [
        "df=geopandas.read_file(path)"
      ],
      "metadata": {
        "id": "8piKa6G78b4f"
      },
      "execution_count": null,
      "outputs": []
    },
    {
      "cell_type": "code",
      "source": [
        "df.plot()"
      ],
      "metadata": {
        "colab": {
          "base_uri": "https://localhost:8080/",
          "height": 318
        },
        "id": "RWdIyZ8Z4cab",
        "outputId": "e8330fc3-e0ff-4e2c-8b13-f3aeda4e208d"
      },
      "execution_count": null,
      "outputs": [
        {
          "output_type": "execute_result",
          "data": {
            "text/plain": [
              "<Axes: >"
            ]
          },
          "metadata": {},
          "execution_count": 27
        },
        {
          "output_type": "display_data",
          "data": {
            "text/plain": [
              "<Figure size 640x480 with 1 Axes>"
            ],
            "image/png": "[encoded data removed]"
          },
          "metadata": {}
        }
      ]
    },
    {
      "cell_type": "code",
      "source": [],
      "metadata": {
        "id": "wIGzstMZ9Mi2"
      },
      "execution_count": null,
      "outputs": []
    },
    {
      "cell_type": "code",
      "source": [
        "from geodatasets import get_path"
      ],
      "metadata": {
        "id": "Wpkvej-k9KBE"
      },
      "execution_count": null,
      "outputs": []
    },
    {
      "cell_type": "code",
      "source": [
        "import matplotlib.pyplot as plt\n",
        "import geopandas\n",
        "from cartopy import crs as ccrs\n",
        "from geodatasets import get_path # Make sure to import get_path\n",
        "\n",
        "path = get_path(\"geoda airbnb\")\n",
        "df = geopandas.read_file(path)"
      ],
      "metadata": {
        "colab": {
          "base_uri": "https://localhost:8080/"
        },
        "id": "0wQDZMKM9UCQ",
        "outputId": "fd793a40-df27-4523-8117-5662e3578aa7"
      },
      "execution_count": null,
      "outputs": [
        {
          "output_type": "stream",
          "name": "stderr",
          "text": [
            "Downloading file 'airbnb.zip' from 'https://geodacenter.github.io/data-and-lab//data/airbnb.zip' to '/root/.cache/geodatasets'.\n"
          ]
        }
      ]
    },
    {
      "cell_type": "code",
      "source": [
        "db.plot()"
      ],
      "metadata": {
        "colab": {
          "base_uri": "https://localhost:8080/",
          "height": 417
        },
        "id": "-_p1gBJ19kMa",
        "outputId": "d5b04f3d-4bb1-4e6d-e8fe-23fb1ee247c8"
      },
      "execution_count": null,
      "outputs": [
        {
          "output_type": "execute_result",
          "data": {
            "text/plain": [
              "<Axes: >"
            ]
          },
          "metadata": {},
          "execution_count": 30
        },
        {
          "output_type": "display_data",
          "data": {
            "text/plain": [
              "<Figure size 640x480 with 1 Axes>"
            ],
            "image/png": "[encoded data removed]"
          },
          "metadata": {}
        }
      ]
    },
    {
      "cell_type": "code",
      "source": [
        "!pip install folium"
      ],
      "metadata": {
        "colab": {
          "base_uri": "https://localhost:8080/"
        },
        "id": "Je0Lqx__AeQB",
        "outputId": "648f404c-93a4-409f-849a-af89cf76ab0d"
      },
      "execution_count": null,
      "outputs": [
        {
          "output_type": "stream",
          "name": "stdout",
          "text": [
            "Requirement already satisfied: folium in /usr/local/lib/python3.11/dist-packages (0.19.4)\n",
            "Requirement already satisfied: branca>=0.6.0 in /usr/local/lib/python3.11/dist-packages (from folium) (0.8.1)\n",
            "Requirement already satisfied: jinja2>=2.9 in /usr/local/lib/python3.11/dist-packages (from folium) (3.1.5)\n",
            "Requirement already satisfied: numpy in /usr/local/lib/python3.11/dist-packages (from folium) (1.26.4)\n",
            "Requirement already satisfied: requests in /usr/local/lib/python3.11/dist-packages (from folium) (2.32.3)\n",
            "Requirement already satisfied: xyzservices in /usr/local/lib/python3.11/dist-packages (from folium) (2025.1.0)\n",
            "Requirement already satisfied: MarkupSafe>=2.0 in /usr/local/lib/python3.11/dist-packages (from jinja2>=2.9->folium) (3.0.2)\n",
            "Requirement already satisfied: charset-normalizer<4,>=2 in /usr/local/lib/python3.11/dist-packages (from requests->folium) (3.4.1)\n",
            "Requirement already satisfied: idna<4,>=2.5 in /usr/local/lib/python3.11/dist-packages (from requests->folium) (3.10)\n",
            "Requirement already satisfied: urllib3<3,>=1.21.1 in /usr/local/lib/python3.11/dist-packages (from requests->folium) (2.3.0)\n",
            "Requirement already satisfied: certifi>=2017.4.17 in /usr/local/lib/python3.11/dist-packages (from requests->folium) (2025.1.31)\n"
          ]
        }
      ]
    },
    {
      "cell_type": "code",
      "source": [
        "import folium"
      ],
      "metadata": {
        "id": "GbZgn-iG_WLZ"
      },
      "execution_count": null,
      "outputs": []
    },
    {
      "cell_type": "code",
      "source": [
        "import matplotlib_inline"
      ],
      "metadata": {
        "id": "g7eNR301_zEc"
      },
      "execution_count": null,
      "outputs": []
    },
    {
      "cell_type": "code",
      "source": [
        "!pip install  mapclassify"
      ],
      "metadata": {
        "colab": {
          "base_uri": "https://localhost:8080/"
        },
        "id": "f5M26evk_5u0",
        "outputId": "653669bf-a230-4418-ec40-0bcbe181f9ec"
      },
      "execution_count": null,
      "outputs": [
        {
          "output_type": "stream",
          "name": "stdout",
          "text": [
            "Collecting mapclassify\n",
            "  Downloading mapclassify-2.8.1-py3-none-any.whl.metadata (2.8 kB)\n",
            "Requirement already satisfied: networkx>=2.7 in /usr/local/lib/python3.11/dist-packages (from mapclassify) (3.4.2)\n",
            "Requirement already satisfied: numpy>=1.23 in /usr/local/lib/python3.11/dist-packages (from mapclassify) (1.26.4)\n",
            "Requirement already satisfied: pandas!=1.5.0,>=1.4 in /usr/local/lib/python3.11/dist-packages (from mapclassify) (2.2.2)\n",
            "Requirement already satisfied: scikit-learn>=1.0 in /usr/local/lib/python3.11/dist-packages (from mapclassify) (1.6.1)\n",
            "Requirement already satisfied: scipy>=1.8 in /usr/local/lib/python3.11/dist-packages (from mapclassify) (1.13.1)\n",
            "Requirement already satisfied: python-dateutil>=2.8.2 in /usr/local/lib/python3.11/dist-packages (from pandas!=1.5.0,>=1.4->mapclassify) (2.8.2)\n",
            "Requirement already satisfied: pytz>=2020.1 in /usr/local/lib/python3.11/dist-packages (from pandas!=1.5.0,>=1.4->mapclassify) (2025.1)\n",
            "Requirement already satisfied: tzdata>=2022.7 in /usr/local/lib/python3.11/dist-packages (from pandas!=1.5.0,>=1.4->mapclassify) (2025.1)\n",
            "Requirement already satisfied: joblib>=1.2.0 in /usr/local/lib/python3.11/dist-packages (from scikit-learn>=1.0->mapclassify) (1.4.2)\n",
            "Requirement already satisfied: threadpoolctl>=3.1.0 in /usr/local/lib/python3.11/dist-packages (from scikit-learn>=1.0->mapclassify) (3.5.0)\n",
            "Requirement already satisfied: six>=1.5 in /usr/local/lib/python3.11/dist-packages (from python-dateutil>=2.8.2->pandas!=1.5.0,>=1.4->mapclassify) (1.17.0)\n",
            "Downloading mapclassify-2.8.1-py3-none-any.whl (59 kB)\n",
            "\u001b[?25l   \u001b[90m━━━━━━━━━━━━━━━━━━━━━━━━━━━━━━━━━━━━━━━━\u001b[0m \u001b[32m0.0/59.1 kB\u001b[0m \u001b[31m?\u001b[0m eta \u001b[36m-:--:--\u001b[0m\r\u001b[2K   \u001b[90m━━━━━━━━━━━━━━━━━━━━━━━━━━━━━━━━━━━━━━━━\u001b[0m \u001b[32m59.1/59.1 kB\u001b[0m \u001b[31m3.3 MB/s\u001b[0m eta \u001b[36m0:00:00\u001b[0m\n",
            "\u001b[?25hInstalling collected packages: mapclassify\n",
            "Successfully installed mapclassify-2.8.1\n"
          ]
        }
      ]
    },
    {
      "cell_type": "code",
      "source": [
        "import mapclassify"
      ],
      "metadata": {
        "id": "GwY94wggBEme"
      },
      "execution_count": null,
      "outputs": []
    },
    {
      "cell_type": "code",
      "source": [
        "!pip install folium matplotlib_inline mapclassify"
      ],
      "metadata": {
        "colab": {
          "base_uri": "https://localhost:8080/"
        },
        "id": "lWYUdcwSB3h5",
        "outputId": "41a7fae1-d1db-4b97-b917-3dbba207badb"
      },
      "execution_count": null,
      "outputs": [
        {
          "output_type": "stream",
          "name": "stdout",
          "text": [
            "Requirement already satisfied: folium in /usr/local/lib/python3.11/dist-packages (0.19.4)\n",
            "Requirement already satisfied: matplotlib_inline in /usr/local/lib/python3.11/dist-packages (0.1.7)\n",
            "Requirement already satisfied: mapclassify in /usr/local/lib/python3.11/dist-packages (2.8.1)\n",
            "Requirement already satisfied: branca>=0.6.0 in /usr/local/lib/python3.11/dist-packages (from folium) (0.8.1)\n",
            "Requirement already satisfied: jinja2>=2.9 in /usr/local/lib/python3.11/dist-packages (from folium) (3.1.5)\n",
            "Requirement already satisfied: numpy in /usr/local/lib/python3.11/dist-packages (from folium) (1.26.4)\n",
            "Requirement already satisfied: requests in /usr/local/lib/python3.11/dist-packages (from folium) (2.32.3)\n",
            "Requirement already satisfied: xyzservices in /usr/local/lib/python3.11/dist-packages (from folium) (2025.1.0)\n",
            "Requirement already satisfied: traitlets in /usr/local/lib/python3.11/dist-packages (from matplotlib_inline) (5.7.1)\n",
            "Requirement already satisfied: networkx>=2.7 in /usr/local/lib/python3.11/dist-packages (from mapclassify) (3.4.2)\n",
            "Requirement already satisfied: pandas!=1.5.0,>=1.4 in /usr/local/lib/python3.11/dist-packages (from mapclassify) (2.2.2)\n",
            "Requirement already satisfied: scikit-learn>=1.0 in /usr/local/lib/python3.11/dist-packages (from mapclassify) (1.6.1)\n",
            "Requirement already satisfied: scipy>=1.8 in /usr/local/lib/python3.11/dist-packages (from mapclassify) (1.13.1)\n",
            "Requirement already satisfied: MarkupSafe>=2.0 in /usr/local/lib/python3.11/dist-packages (from jinja2>=2.9->folium) (3.0.2)\n",
            "Requirement already satisfied: python-dateutil>=2.8.2 in /usr/local/lib/python3.11/dist-packages (from pandas!=1.5.0,>=1.4->mapclassify) (2.8.2)\n",
            "Requirement already satisfied: pytz>=2020.1 in /usr/local/lib/python3.11/dist-packages (from pandas!=1.5.0,>=1.4->mapclassify) (2025.1)\n",
            "Requirement already satisfied: tzdata>=2022.7 in /usr/local/lib/python3.11/dist-packages (from pandas!=1.5.0,>=1.4->mapclassify) (2025.1)\n",
            "Requirement already satisfied: joblib>=1.2.0 in /usr/local/lib/python3.11/dist-packages (from scikit-learn>=1.0->mapclassify) (1.4.2)\n",
            "Requirement already satisfied: threadpoolctl>=3.1.0 in /usr/local/lib/python3.11/dist-packages (from scikit-learn>=1.0->mapclassify) (3.5.0)\n",
            "Requirement already satisfied: charset-normalizer<4,>=2 in /usr/local/lib/python3.11/dist-packages (from requests->folium) (3.4.1)\n",
            "Requirement already satisfied: idna<4,>=2.5 in /usr/local/lib/python3.11/dist-packages (from requests->folium) (3.10)\n",
            "Requirement already satisfied: urllib3<3,>=1.21.1 in /usr/local/lib/python3.11/dist-packages (from requests->folium) (2.3.0)\n",
            "Requirement already satisfied: certifi>=2017.4.17 in /usr/local/lib/python3.11/dist-packages (from requests->folium) (2025.1.31)\n",
            "Requirement already satisfied: six>=1.5 in /usr/local/lib/python3.11/dist-packages (from python-dateutil>=2.8.2->pandas!=1.5.0,>=1.4->mapclassify) (1.17.0)\n"
          ]
        }
      ]
    },
    {
      "cell_type": "code",
      "source": [
        "db.plot()"
      ],
      "metadata": {
        "colab": {
          "base_uri": "https://localhost:8080/",
          "height": 417
        },
        "id": "cgOg_d_LCOS2",
        "outputId": "b7f15e48-822d-44d4-b6f5-24c7e4ad5985"
      },
      "execution_count": null,
      "outputs": [
        {
          "output_type": "execute_result",
          "data": {
            "text/plain": [
              "<Axes: >"
            ]
          },
          "metadata": {},
          "execution_count": 39
        },
        {
          "output_type": "display_data",
          "data": {
            "text/plain": [
              "<Figure size 640x480 with 1 Axes>"
            ],
            "image/png": "[encoded data removed]"
          },
          "metadata": {}
        }
      ]
    },
    {
      "cell_type": "code",
      "source": [
        "import mapclassify"
      ],
      "metadata": {
        "id": "ARub9oOWCjHQ"
      },
      "execution_count": null,
      "outputs": []
    },
    {
      "cell_type": "code",
      "source": [
        "import folium"
      ],
      "metadata": {
        "id": "tabk9k6sCrQj"
      },
      "execution_count": null,
      "outputs": []
    },
    {
      "cell_type": "code",
      "source": [
        "import matplotlib_inline"
      ],
      "metadata": {
        "id": "WWh4qcNACuvp"
      },
      "execution_count": null,
      "outputs": []
    },
    {
      "cell_type": "code",
      "source": [
        "geopandas.GeoDataFrame.explore"
      ],
      "metadata": {
        "colab": {
          "base_uri": "https://localhost:8080/",
          "height": 187
        },
        "id": "3DCcnCJoDWOX",
        "outputId": "623e9a43-2b29-4c77-b384-c020f4481450"
      },
      "execution_count": null,
      "outputs": [
        {
          "output_type": "execute_result",
          "data": {
            "text/plain": [
              "<function geopandas.geodataframe.GeoDataFrame.explore(self, *args, **kwargs)>"
            ],
            "text/html": [
              "<div style=\"max-width:800px; border: 1px solid var(--colab-border-color);\"><style>\n",
              "      pre.function-repr-contents {\n",
              "        overflow-x: auto;\n",
              "        padding: 8px 12px;\n",
              "        max-height: 500px;\n",
              "      }\n",
              "\n",
              "      pre.function-repr-contents.function-repr-contents-collapsed {\n",
              "        cursor: pointer;\n",
              "        max-height: 100px;\n",
              "      }\n",
              "    </style>\n",
              "    <pre style=\"white-space: initial; background:\n",
              "         var(--colab-secondary-surface-color); padding: 8px 12px;\n",
              "         border-bottom: 1px solid var(--colab-border-color);\"><b>geopandas.geodataframe.GeoDataFrame.explore</b><br/>def explore(*args, **kwargs)</pre><pre class=\"function-repr-contents function-repr-contents-collapsed\" style=\"\"><a class=\"filepath\" style=\"display:none\" href=\"#\">/usr/local/lib/python3.11/dist-packages/geopandas/geodataframe.py</a>Interactive map based on GeoPandas and folium/leaflet.js\n",
              "\n",
              "Generate an interactive leaflet map based on :class:`~geopandas.GeoDataFrame`\n",
              "\n",
              "Parameters\n",
              "----------\n",
              "column : str, np.array, pd.Series (default None)\n",
              "    The name of the dataframe column, :class:`numpy.array`,\n",
              "    or :class:`pandas.Series` to be plotted. If :class:`numpy.array` or\n",
              "    :class:`pandas.Series` are used then it must have same length as dataframe.\n",
              "cmap : str, matplotlib.Colormap, branca.colormap or function (default None)\n",
              "    The name of a colormap recognized by ``matplotlib``, a list-like of colors,\n",
              "    :class:`matplotlib.colors.Colormap`, a :class:`branca.colormap.ColorMap` or\n",
              "    function that returns a named color or hex based on the column\n",
              "    value, e.g.::\n",
              "\n",
              "        def my_colormap(value):  # scalar value defined in &#x27;column&#x27;\n",
              "            if value &gt; 1:\n",
              "                return &quot;green&quot;\n",
              "            return &quot;red&quot;\n",
              "\n",
              "color : str, array-like (default None)\n",
              "    Named color or a list-like of colors (named or hex).\n",
              "m : folium.Map (default None)\n",
              "    Existing map instance on which to draw the plot.\n",
              "tiles : str, xyzservices.TileProvider (default &#x27;OpenStreetMap Mapnik&#x27;)\n",
              "    Map tileset to use. Can choose from the list supported by folium, query a\n",
              "    :class:`xyzservices.TileProvider` by a name from ``xyzservices.providers``,\n",
              "    pass :class:`xyzservices.TileProvider` object or pass custom XYZ URL.\n",
              "    The current list of built-in providers (when ``xyzservices`` is not available):\n",
              "\n",
              "    ``[&quot;OpenStreetMap&quot;, &quot;CartoDB positron&quot;, “CartoDB dark_matter&quot;]``\n",
              "\n",
              "    You can pass a custom tileset to Folium by passing a Leaflet-style URL\n",
              "    to the tiles parameter: ``http://{s}.yourtiles.com/{z}/{x}/{y}.png``.\n",
              "    Be sure to check their terms and conditions and to provide attribution with\n",
              "    the ``attr`` keyword.\n",
              "attr : str (default None)\n",
              "    Map tile attribution; only required if passing custom tile URL.\n",
              "tooltip : bool, str, int, list (default True)\n",
              "    Display GeoDataFrame attributes when hovering over the object.\n",
              "    ``True`` includes all columns. ``False`` removes tooltip. Pass string or list of\n",
              "    strings to specify a column(s). Integer specifies first n columns to be\n",
              "    included. Defaults to ``True``.\n",
              "popup : bool, str, int, list (default False)\n",
              "    Input GeoDataFrame attributes for object displayed when clicking.\n",
              "    ``True`` includes all columns. ``False`` removes popup. Pass string or list of\n",
              "    strings to specify a column(s). Integer specifies first n columns to be\n",
              "    included. Defaults to ``False``.\n",
              "highlight : bool (default True)\n",
              "    Enable highlight functionality when hovering over a geometry.\n",
              "categorical : bool (default False)\n",
              "    If ``False``, ``cmap`` will reflect numerical values of the\n",
              "    column being plotted. For non-numerical columns, this\n",
              "    will be set to True.\n",
              "legend : bool (default True)\n",
              "    Plot a legend in choropleth plots.\n",
              "    Ignored if no ``column`` is given.\n",
              "scheme : str (default None)\n",
              "    Name of a choropleth classification scheme (requires ``mapclassify`` &gt;= 2.4.0).\n",
              "    A :func:`mapclassify.classify` will be used\n",
              "    under the hood. Supported are all schemes provided by ``mapclassify`` (e.g.\n",
              "    ``&#x27;BoxPlot&#x27;``, ``&#x27;EqualInterval&#x27;``, ``&#x27;FisherJenks&#x27;``, ``&#x27;FisherJenksSampled&#x27;``,\n",
              "    ``&#x27;HeadTailBreaks&#x27;``, ``&#x27;JenksCaspall&#x27;``, ``&#x27;JenksCaspallForced&#x27;``,\n",
              "    ``&#x27;JenksCaspallSampled&#x27;``, ``&#x27;MaxP&#x27;``, ``&#x27;MaximumBreaks&#x27;``,\n",
              "    ``&#x27;NaturalBreaks&#x27;``, ``&#x27;Quantiles&#x27;``, ``&#x27;Percentiles&#x27;``, ``&#x27;StdMean&#x27;``,\n",
              "    ``&#x27;UserDefined&#x27;``). Arguments can be passed in ``classification_kwds``.\n",
              "k : int (default 5)\n",
              "    Number of classes\n",
              "vmin : None or float (default None)\n",
              "    Minimum value of ``cmap``. If ``None``, the minimum data value\n",
              "    in the column to be plotted is used.\n",
              "vmax : None or float (default None)\n",
              "    Maximum value of ``cmap``. If ``None``, the maximum data value\n",
              "    in the column to be plotted is used.\n",
              "width : pixel int or percentage string (default: &#x27;100%&#x27;)\n",
              "    Width of the folium :class:`~folium.folium.Map`. If the argument\n",
              "    m is given explicitly, width is ignored.\n",
              "height : pixel int or percentage string (default: &#x27;100%&#x27;)\n",
              "    Height of the folium :class:`~folium.folium.Map`. If the argument\n",
              "    m is given explicitly, height is ignored.\n",
              "categories : list-like\n",
              "    Ordered list-like object of categories to be used for categorical plot.\n",
              "classification_kwds : dict (default None)\n",
              "    Keyword arguments to pass to mapclassify\n",
              "control_scale : bool, (default True)\n",
              "    Whether to add a control scale on the map.\n",
              "marker_type : str, folium.Circle, folium.CircleMarker, folium.Marker (default None)\n",
              "    Allowed string options are (&#x27;marker&#x27;, &#x27;circle&#x27;, &#x27;circle_marker&#x27;). Defaults to\n",
              "    folium.CircleMarker.\n",
              "marker_kwds: dict (default {})\n",
              "    Additional keywords to be passed to the selected ``marker_type``, e.g.:\n",
              "\n",
              "    radius : float (default 2 for ``circle_marker`` and 50 for ``circle``))\n",
              "        Radius of the circle, in meters (for ``circle``) or pixels\n",
              "        (for ``circle_marker``).\n",
              "    fill : bool (default True)\n",
              "        Whether to fill the ``circle`` or ``circle_marker`` with color.\n",
              "    icon : folium.map.Icon\n",
              "        the :class:`folium.map.Icon` object to use to render the marker.\n",
              "    draggable : bool (default False)\n",
              "        Set to True to be able to drag the marker around the map.\n",
              "\n",
              "style_kwds : dict (default {})\n",
              "    Additional style to be passed to folium ``style_function``:\n",
              "\n",
              "    stroke : bool (default True)\n",
              "        Whether to draw stroke along the path. Set it to ``False`` to\n",
              "        disable borders on polygons or circles.\n",
              "    color : str\n",
              "        Stroke color\n",
              "    weight : int\n",
              "        Stroke width in pixels\n",
              "    opacity : float (default 1.0)\n",
              "        Stroke opacity\n",
              "    fill : boolean (default True)\n",
              "        Whether to fill the path with color. Set it to ``False`` to\n",
              "        disable filling on polygons or circles.\n",
              "    fillColor : str\n",
              "        Fill color. Defaults to the value of the color option\n",
              "    fillOpacity : float (default 0.5)\n",
              "        Fill opacity.\n",
              "    style_function : callable\n",
              "        Function mapping a GeoJson Feature to a style ``dict``.\n",
              "\n",
              "        * Style properties :func:`folium.vector_layers.path_options`\n",
              "        * GeoJson features :class:`GeoDataFrame.__geo_interface__`\n",
              "\n",
              "        e.g.::\n",
              "\n",
              "            lambda x: {&quot;color&quot;:&quot;red&quot; if x[&quot;properties&quot;][&quot;gdp_md_est&quot;]&lt;10**6\n",
              "                                         else &quot;blue&quot;}\n",
              "\n",
              "    Plus all supported by :func:`folium.vector_layers.path_options`. See the\n",
              "    documentation of :class:`folium.features.GeoJson` for details.\n",
              "\n",
              "highlight_kwds : dict (default {})\n",
              "    Style to be passed to folium highlight_function. Uses the same keywords\n",
              "    as ``style_kwds``. When empty, defaults to ``{&quot;fillOpacity&quot;: 0.75}``.\n",
              "tooltip_kwds : dict (default {})\n",
              "    Additional keywords to be passed to :class:`folium.features.GeoJsonTooltip`,\n",
              "    e.g. ``aliases``, ``labels``, or ``sticky``.\n",
              "popup_kwds : dict (default {})\n",
              "    Additional keywords to be passed to :class:`folium.features.GeoJsonPopup`,\n",
              "    e.g. ``aliases`` or ``labels``.\n",
              "legend_kwds : dict (default {})\n",
              "    Additional keywords to be passed to the legend.\n",
              "\n",
              "    Currently supported customisation:\n",
              "\n",
              "    caption : string\n",
              "        Custom caption of the legend. Defaults to the column name.\n",
              "\n",
              "    Additional accepted keywords when ``scheme`` is specified:\n",
              "\n",
              "    colorbar : bool (default True)\n",
              "        An option to control the style of the legend. If True, continuous\n",
              "        colorbar will be used. If False, categorical legend will be used for bins.\n",
              "    scale : bool (default True)\n",
              "        Scale bins along the colorbar axis according to the bin edges (True)\n",
              "        or use the equal length for each bin (False)\n",
              "    fmt : string (default &quot;{:.2f}&quot;)\n",
              "        A formatting specification for the bin edges of the classes in the\n",
              "        legend. For example, to have no decimals: ``{&quot;fmt&quot;: &quot;{:.0f}&quot;}``. Applies\n",
              "        if ``colorbar=False``.\n",
              "    labels : list-like\n",
              "        A list of legend labels to override the auto-generated labels.\n",
              "        Needs to have the same number of elements as the number of\n",
              "        classes (`k`). Applies if ``colorbar=False``.\n",
              "    interval : boolean (default False)\n",
              "        An option to control brackets from mapclassify legend.\n",
              "        If True, open/closed interval brackets are shown in the legend.\n",
              "        Applies if ``colorbar=False``.\n",
              "    max_labels : int, default 10\n",
              "        Maximum number of colorbar tick labels (requires branca&gt;=0.5.0)\n",
              "map_kwds : dict (default {})\n",
              "    Additional keywords to be passed to folium :class:`~folium.folium.Map`,\n",
              "    e.g. ``dragging``, or ``scrollWheelZoom``.\n",
              "\n",
              "\n",
              "**kwargs : dict\n",
              "    Additional options to be passed on to the folium object.\n",
              "\n",
              "Returns\n",
              "-------\n",
              "m : folium.folium.Map\n",
              "    folium :class:`~folium.folium.Map` instance\n",
              "\n",
              "Examples\n",
              "--------\n",
              "&gt;&gt;&gt; import geodatasets\n",
              "&gt;&gt;&gt; df = geopandas.read_file(\n",
              "...     geodatasets.get_path(&quot;geoda.chicago_health&quot;)\n",
              "... )\n",
              "&gt;&gt;&gt; df.head(2)  # doctest: +SKIP\n",
              "   ComAreaID  ...                                           geometry\n",
              "0         35  ...  POLYGON ((-87.60914 41.84469, -87.60915 41.844...\n",
              "1         36  ...  POLYGON ((-87.59215 41.81693, -87.59231 41.816...\n",
              "\n",
              "[2 rows x 87 columns]\n",
              "\n",
              "&gt;&gt;&gt; df.explore(&quot;Pop2012&quot;, cmap=&quot;Blues&quot;)  # doctest: +SKIP</pre>\n",
              "      <script>\n",
              "      if (google.colab.kernel.accessAllowed && google.colab.files && google.colab.files.view) {\n",
              "        for (const element of document.querySelectorAll('.filepath')) {\n",
              "          element.style.display = 'block'\n",
              "          element.onclick = (event) => {\n",
              "            event.preventDefault();\n",
              "            event.stopPropagation();\n",
              "            google.colab.files.view(element.textContent, 2303);\n",
              "          };\n",
              "        }\n",
              "      }\n",
              "      for (const element of document.querySelectorAll('.function-repr-contents')) {\n",
              "        element.onclick = (event) => {\n",
              "          event.preventDefault();\n",
              "          event.stopPropagation();\n",
              "          element.classList.toggle('function-repr-contents-collapsed');\n",
              "        };\n",
              "      }\n",
              "      </script>\n",
              "      </div>"
            ]
          },
          "metadata": {},
          "execution_count": 43
        }
      ]
    },
    {
      "cell_type": "code",
      "source": [
        "df.plot()"
      ],
      "metadata": {
        "colab": {
          "base_uri": "https://localhost:8080/",
          "height": 448
        },
        "id": "se1QrwQCEf5K",
        "outputId": "dfe93a39-0599-41f1-cbed-56b889957f0f"
      },
      "execution_count": null,
      "outputs": [
        {
          "output_type": "execute_result",
          "data": {
            "text/plain": [
              "<Axes: >"
            ]
          },
          "metadata": {},
          "execution_count": 44
        },
        {
          "output_type": "display_data",
          "data": {
            "text/plain": [
              "<Figure size 640x480 with 1 Axes>"
            ],
            "image/png": "[encoded data removed]"
          },
          "metadata": {}
        }
      ]
    },
    {
      "cell_type": "code",
      "source": [
        "chosen_dataset = 'geoda.airbnb'\n",
        "dataset_info = geodatasets.data.query_name(chosen_dataset)\n",
        "\n",
        "print(\"dataset Information:\")\n",
        "print(f\"Name: {dataset_info['name']}\")\n",
        "print(f\"Description: {dataset_info['description']}\")\n",
        "print(f\"Geometry Type: {dataset_info['geometry_type']}\")\n",
        "print(f\"Number of Rows: {dataset_info['nrows']}\")"
      ],
      "metadata": {
        "colab": {
          "base_uri": "https://localhost:8080/",
          "height": 222
        },
        "id": "ktgSd72IjHn5",
        "outputId": "9ce6128f-4357-469b-e2fc-be64c0db5f41"
      },
      "execution_count": null,
      "outputs": [
        {
          "output_type": "error",
          "ename": "NameError",
          "evalue": "name 'geodatasets' is not defined",
          "traceback": [
            "\u001b[0;31m---------------------------------------------------------------------------\u001b[0m",
            "\u001b[0;31mNameError\u001b[0m                                 Traceback (most recent call last)",
            "\u001b[0;32m<ipython-input-1-8b428734f9ae>\u001b[0m in \u001b[0;36m<cell line: 0>\u001b[0;34m()\u001b[0m\n\u001b[1;32m      1\u001b[0m \u001b[0mchosen_dataset\u001b[0m \u001b[0;34m=\u001b[0m \u001b[0;34m'geoda.airbnb'\u001b[0m\u001b[0;34m\u001b[0m\u001b[0;34m\u001b[0m\u001b[0m\n\u001b[0;32m----> 2\u001b[0;31m \u001b[0mdataset_info\u001b[0m \u001b[0;34m=\u001b[0m \u001b[0mgeodatasets\u001b[0m\u001b[0;34m.\u001b[0m\u001b[0mdata\u001b[0m\u001b[0;34m.\u001b[0m\u001b[0mquery_name\u001b[0m\u001b[0;34m(\u001b[0m\u001b[0mchosen_dataset\u001b[0m\u001b[0;34m)\u001b[0m\u001b[0;34m\u001b[0m\u001b[0;34m\u001b[0m\u001b[0m\n\u001b[0m\u001b[1;32m      3\u001b[0m \u001b[0;34m\u001b[0m\u001b[0m\n\u001b[1;32m      4\u001b[0m \u001b[0mprint\u001b[0m\u001b[0;34m(\u001b[0m\u001b[0;34m\"Dataset Information:\"\u001b[0m\u001b[0;34m)\u001b[0m\u001b[0;34m\u001b[0m\u001b[0;34m\u001b[0m\u001b[0m\n\u001b[1;32m      5\u001b[0m \u001b[0mprint\u001b[0m\u001b[0;34m(\u001b[0m\u001b[0;34mf\"Name: {dataset_info['name']}\"\u001b[0m\u001b[0;34m)\u001b[0m\u001b[0;34m\u001b[0m\u001b[0;34m\u001b[0m\u001b[0m\n",
            "\u001b[0;31mNameError\u001b[0m: name 'geodatasets' is not defined"
          ]
        }
      ]
    },
    {
      "cell_type": "code",
      "source": [
        "import geodatasets # Import the geodatasets module\n",
        "\n",
        "chosen_dataset = 'geoda.airbnb'\n",
        "dataset_info = geodatasets.data.query_name(chosen_dataset)\n",
        "\n",
        "print(\"Dataset Information:\")\n",
        "print(f\"Name: {dataset_info['name']}\")\n",
        "print(f\"Description: {dataset_info['description']}\")\n",
        "print(f\"Geometry Type: {dataset_info['geometry_type']}\")\n",
        "print(f\"Number of Rows: {dataset_info['nrows']}\")"
      ],
      "metadata": {
        "colab": {
          "base_uri": "https://localhost:8080/",
          "height": 403
        },
        "id": "Lubtp6Ycjqkz",
        "outputId": "f4c1510a-5589-4cec-ef92-98f298a8a33f"
      },
      "execution_count": null,
      "outputs": [
        {
          "output_type": "error",
          "ename": "ModuleNotFoundError",
          "evalue": "No module named 'geodatasets'",
          "traceback": [
            "\u001b[0;31m---------------------------------------------------------------------------\u001b[0m",
            "\u001b[0;31mModuleNotFoundError\u001b[0m                       Traceback (most recent call last)",
            "\u001b[0;32m<ipython-input-2-2ff5cfa1477d>\u001b[0m in \u001b[0;36m<cell line: 0>\u001b[0;34m()\u001b[0m\n\u001b[0;32m----> 1\u001b[0;31m \u001b[0;32mimport\u001b[0m \u001b[0mgeodatasets\u001b[0m \u001b[0;31m# Import the geodatasets module\u001b[0m\u001b[0;34m\u001b[0m\u001b[0;34m\u001b[0m\u001b[0m\n\u001b[0m\u001b[1;32m      2\u001b[0m \u001b[0;34m\u001b[0m\u001b[0m\n\u001b[1;32m      3\u001b[0m \u001b[0mchosen_dataset\u001b[0m \u001b[0;34m=\u001b[0m \u001b[0;34m'geoda.airbnb'\u001b[0m\u001b[0;34m\u001b[0m\u001b[0;34m\u001b[0m\u001b[0m\n\u001b[1;32m      4\u001b[0m \u001b[0mdataset_info\u001b[0m \u001b[0;34m=\u001b[0m \u001b[0mgeodatasets\u001b[0m\u001b[0;34m.\u001b[0m\u001b[0mdata\u001b[0m\u001b[0;34m.\u001b[0m\u001b[0mquery_name\u001b[0m\u001b[0;34m(\u001b[0m\u001b[0mchosen_dataset\u001b[0m\u001b[0;34m)\u001b[0m\u001b[0;34m\u001b[0m\u001b[0;34m\u001b[0m\u001b[0m\n\u001b[1;32m      5\u001b[0m \u001b[0;34m\u001b[0m\u001b[0m\n",
            "\u001b[0;31mModuleNotFoundError\u001b[0m: No module named 'geodatasets'",
            "",
            "\u001b[0;31m---------------------------------------------------------------------------\u001b[0;32m\nNOTE: If your import is failing due to a missing package, you can\nmanually install dependencies using either !pip or !apt.\n\nTo view examples of installing some common dependencies, click the\n\"Open Examples\" button below.\n\u001b[0;31m---------------------------------------------------------------------------\u001b[0m\n"
          ],
          "errorDetails": {
            "actions": [
              {
                "action": "open_url",
                "actionText": "Open Examples",
                "url": "/notebooks/snippets/importing_libraries.ipynb"
              }
            ]
          }
        }
      ]
    },
    {
      "cell_type": "code",
      "source": [
        "import matplotlib.pyplot as plt\n",
        "import geopandas\n",
        "from cartopy import crs as ccrs\n",
        "from geodatasets import get_path # Make sure to import get_path\n",
        "\n",
        "path = get_path(\"geoda airbnb\")\n",
        "df = geopandas.read_file(path)"
      ],
      "metadata": {
        "colab": {
          "base_uri": "https://localhost:8080/",
          "height": 385
        },
        "id": "NOuQlGhHkBOa",
        "outputId": "de0f4d20-6b1d-4d23-afd4-56061f47fc53"
      },
      "execution_count": null,
      "outputs": [
        {
          "output_type": "error",
          "ename": "ModuleNotFoundError",
          "evalue": "No module named 'cartopy'",
          "traceback": [
            "\u001b[0;31m---------------------------------------------------------------------------\u001b[0m",
            "\u001b[0;31mModuleNotFoundError\u001b[0m                       Traceback (most recent call last)",
            "\u001b[0;32m<ipython-input-3-3722c9355c01>\u001b[0m in \u001b[0;36m<cell line: 0>\u001b[0;34m()\u001b[0m\n\u001b[1;32m      1\u001b[0m \u001b[0;32mimport\u001b[0m \u001b[0mmatplotlib\u001b[0m\u001b[0;34m.\u001b[0m\u001b[0mpyplot\u001b[0m \u001b[0;32mas\u001b[0m \u001b[0mplt\u001b[0m\u001b[0;34m\u001b[0m\u001b[0;34m\u001b[0m\u001b[0m\n\u001b[1;32m      2\u001b[0m \u001b[0;32mimport\u001b[0m \u001b[0mgeopandas\u001b[0m\u001b[0;34m\u001b[0m\u001b[0;34m\u001b[0m\u001b[0m\n\u001b[0;32m----> 3\u001b[0;31m \u001b[0;32mfrom\u001b[0m \u001b[0mcartopy\u001b[0m \u001b[0;32mimport\u001b[0m \u001b[0mcrs\u001b[0m \u001b[0;32mas\u001b[0m \u001b[0mccrs\u001b[0m\u001b[0;34m\u001b[0m\u001b[0;34m\u001b[0m\u001b[0m\n\u001b[0m\u001b[1;32m      4\u001b[0m \u001b[0;32mfrom\u001b[0m \u001b[0mgeodatasets\u001b[0m \u001b[0;32mimport\u001b[0m \u001b[0mget_path\u001b[0m \u001b[0;31m# Make sure to import get_path\u001b[0m\u001b[0;34m\u001b[0m\u001b[0;34m\u001b[0m\u001b[0m\n\u001b[1;32m      5\u001b[0m \u001b[0;34m\u001b[0m\u001b[0m\n",
            "\u001b[0;31mModuleNotFoundError\u001b[0m: No module named 'cartopy'",
            "",
            "\u001b[0;31m---------------------------------------------------------------------------\u001b[0;32m\nNOTE: If your import is failing due to a missing package, you can\nmanually install dependencies using either !pip or !apt.\n\nTo install cartopy, click the button below.\n\u001b[0;31m---------------------------------------------------------------------------\u001b[0m\n"
          ],
          "errorDetails": {
            "actions": [
              {
                "action": "open_snippet",
                "actionText": "Install cartopy",
                "snippetFilter": "cartopy"
              }
            ]
          }
        }
      ]
    },
    {
      "cell_type": "code",
      "source": [
        "!pip install geopandas"
      ],
      "metadata": {
        "colab": {
          "base_uri": "https://localhost:8080/"
        },
        "id": "SpF_YTXlkS4A",
        "outputId": "78d0504f-51a0-44c0-fe61-99a844b0e353"
      },
      "execution_count": null,
      "outputs": [
        {
          "output_type": "stream",
          "name": "stdout",
          "text": [
            "Requirement already satisfied: geopandas in /usr/local/lib/python3.11/dist-packages (1.0.1)\n",
            "Requirement already satisfied: numpy>=1.22 in /usr/local/lib/python3.11/dist-packages (from geopandas) (1.26.4)\n",
            "Requirement already satisfied: pyogrio>=0.7.2 in /usr/local/lib/python3.11/dist-packages (from geopandas) (0.10.0)\n",
            "Requirement already satisfied: packaging in /usr/local/lib/python3.11/dist-packages (from geopandas) (24.2)\n",
            "Requirement already satisfied: pandas>=1.4.0 in /usr/local/lib/python3.11/dist-packages (from geopandas) (2.2.2)\n",
            "Requirement already satisfied: pyproj>=3.3.0 in /usr/local/lib/python3.11/dist-packages (from geopandas) (3.7.0)\n",
            "Requirement already satisfied: shapely>=2.0.0 in /usr/local/lib/python3.11/dist-packages (from geopandas) (2.0.7)\n",
            "Requirement already satisfied: python-dateutil>=2.8.2 in /usr/local/lib/python3.11/dist-packages (from pandas>=1.4.0->geopandas) (2.8.2)\n",
            "Requirement already satisfied: pytz>=2020.1 in /usr/local/lib/python3.11/dist-packages (from pandas>=1.4.0->geopandas) (2025.1)\n",
            "Requirement already satisfied: tzdata>=2022.7 in /usr/local/lib/python3.11/dist-packages (from pandas>=1.4.0->geopandas) (2025.1)\n",
            "Requirement already satisfied: certifi in /usr/local/lib/python3.11/dist-packages (from pyogrio>=0.7.2->geopandas) (2025.1.31)\n",
            "Requirement already satisfied: six>=1.5 in /usr/local/lib/python3.11/dist-packages (from python-dateutil>=2.8.2->pandas>=1.4.0->geopandas) (1.17.0)\n"
          ]
        }
      ]
    },
    {
      "cell_type": "code",
      "source": [
        "!pip install cartopy"
      ],
      "metadata": {
        "colab": {
          "base_uri": "https://localhost:8080/"
        },
        "id": "C5ZdtS3YkYJO",
        "outputId": "e774142e-d708-4f8f-94b6-562ad7811a17"
      },
      "execution_count": null,
      "outputs": [
        {
          "output_type": "stream",
          "name": "stdout",
          "text": [
            "Collecting cartopy\n",
            "  Downloading Cartopy-0.24.1-cp311-cp311-manylinux_2_17_x86_64.manylinux2014_x86_64.whl.metadata (7.9 kB)\n",
            "Requirement already satisfied: numpy>=1.23 in /usr/local/lib/python3.11/dist-packages (from cartopy) (1.26.4)\n",
            "Requirement already satisfied: matplotlib>=3.6 in /usr/local/lib/python3.11/dist-packages (from cartopy) (3.10.0)\n",
            "Requirement already satisfied: shapely>=1.8 in /usr/local/lib/python3.11/dist-packages (from cartopy) (2.0.7)\n",
            "Requirement already satisfied: packaging>=21 in /usr/local/lib/python3.11/dist-packages (from cartopy) (24.2)\n",
            "Requirement already satisfied: pyshp>=2.3 in /usr/local/lib/python3.11/dist-packages (from cartopy) (2.3.1)\n",
            "Requirement already satisfied: pyproj>=3.3.1 in /usr/local/lib/python3.11/dist-packages (from cartopy) (3.7.0)\n",
            "Requirement already satisfied: contourpy>=1.0.1 in /usr/local/lib/python3.11/dist-packages (from matplotlib>=3.6->cartopy) (1.3.1)\n",
            "Requirement already satisfied: cycler>=0.10 in /usr/local/lib/python3.11/dist-packages (from matplotlib>=3.6->cartopy) (0.12.1)\n",
            "Requirement already satisfied: fonttools>=4.22.0 in /usr/local/lib/python3.11/dist-packages (from matplotlib>=3.6->cartopy) (4.55.8)\n",
            "Requirement already satisfied: kiwisolver>=1.3.1 in /usr/local/lib/python3.11/dist-packages (from matplotlib>=3.6->cartopy) (1.4.8)\n",
            "Requirement already satisfied: pillow>=8 in /usr/local/lib/python3.11/dist-packages (from matplotlib>=3.6->cartopy) (11.1.0)\n",
            "Requirement already satisfied: pyparsing>=2.3.1 in /usr/local/lib/python3.11/dist-packages (from matplotlib>=3.6->cartopy) (3.2.1)\n",
            "Requirement already satisfied: python-dateutil>=2.7 in /usr/local/lib/python3.11/dist-packages (from matplotlib>=3.6->cartopy) (2.8.2)\n",
            "Requirement already satisfied: certifi in /usr/local/lib/python3.11/dist-packages (from pyproj>=3.3.1->cartopy) (2025.1.31)\n",
            "Requirement already satisfied: six>=1.5 in /usr/local/lib/python3.11/dist-packages (from python-dateutil>=2.7->matplotlib>=3.6->cartopy) (1.17.0)\n",
            "Downloading Cartopy-0.24.1-cp311-cp311-manylinux_2_17_x86_64.manylinux2014_x86_64.whl (11.7 MB)\n",
            "\u001b[2K   \u001b[90m━━━━━━━━━━━━━━━━━━━━━━━━━━━━━━━━━━━━━━━━\u001b[0m \u001b[32m11.7/11.7 MB\u001b[0m \u001b[31m42.2 MB/s\u001b[0m eta \u001b[36m0:00:00\u001b[0m\n",
            "\u001b[?25hInstalling collected packages: cartopy\n",
            "Successfully installed cartopy-0.24.1\n"
          ]
        }
      ]
    },
    {
      "cell_type": "code",
      "source": [
        "!pip install geodatasets"
      ],
      "metadata": {
        "colab": {
          "base_uri": "https://localhost:8080/"
        },
        "id": "92s2cK2XkdUS",
        "outputId": "0988e12b-be4e-4dbf-e424-b6cf0ee27395"
      },
      "execution_count": null,
      "outputs": [
        {
          "output_type": "stream",
          "name": "stdout",
          "text": [
            "Collecting geodatasets\n",
            "  Downloading geodatasets-2024.8.0-py3-none-any.whl.metadata (5.4 kB)\n",
            "Requirement already satisfied: pooch in /usr/local/lib/python3.11/dist-packages (from geodatasets) (1.8.2)\n",
            "Requirement already satisfied: platformdirs>=2.5.0 in /usr/local/lib/python3.11/dist-packages (from pooch->geodatasets) (4.3.6)\n",
            "Requirement already satisfied: packaging>=20.0 in /usr/local/lib/python3.11/dist-packages (from pooch->geodatasets) (24.2)\n",
            "Requirement already satisfied: requests>=2.19.0 in /usr/local/lib/python3.11/dist-packages (from pooch->geodatasets) (2.32.3)\n",
            "Requirement already satisfied: charset-normalizer<4,>=2 in /usr/local/lib/python3.11/dist-packages (from requests>=2.19.0->pooch->geodatasets) (3.4.1)\n",
            "Requirement already satisfied: idna<4,>=2.5 in /usr/local/lib/python3.11/dist-packages (from requests>=2.19.0->pooch->geodatasets) (3.10)\n",
            "Requirement already satisfied: urllib3<3,>=1.21.1 in /usr/local/lib/python3.11/dist-packages (from requests>=2.19.0->pooch->geodatasets) (2.3.0)\n",
            "Requirement already satisfied: certifi>=2017.4.17 in /usr/local/lib/python3.11/dist-packages (from requests>=2.19.0->pooch->geodatasets) (2025.1.31)\n",
            "Downloading geodatasets-2024.8.0-py3-none-any.whl (20 kB)\n",
            "Installing collected packages: geodatasets\n",
            "Successfully installed geodatasets-2024.8.0\n"
          ]
        }
      ]
    },
    {
      "cell_type": "code",
      "source": [
        "import matplotlib.pyplot as plt\n",
        "import geopandas\n",
        "from cartopy import crs as ccrs\n",
        "from geodatasets import get_path # Make sure to import get_path"
      ],
      "metadata": {
        "id": "y9uliCXykmSE"
      },
      "execution_count": null,
      "outputs": []
    },
    {
      "cell_type": "code",
      "source": [
        "import geodatasets # Import the geodatasets module\n",
        "\n",
        "chosen_dataset = 'geoda.airbnb'\n",
        "dataset_info = geodatasets.data.query_name(chosen_dataset)\n",
        "\n",
        "print(\"Dataset Information:\")\n",
        "print(f\"Name: {dataset_info['name']}\")\n",
        "print(f\"Description: {dataset_info['description']}\")\n",
        "print(f\"Geometry Type: {dataset_info['geometry_type']}\")\n",
        "print(f\"Number of Rows: {dataset_info['nrows']}\")"
      ],
      "metadata": {
        "colab": {
          "base_uri": "https://localhost:8080/"
        },
        "id": "Gt-C_Asrk4NA",
        "outputId": "ceddbecf-992d-4eb3-bd49-90d282a74a57"
      },
      "execution_count": null,
      "outputs": [
        {
          "output_type": "stream",
          "name": "stdout",
          "text": [
            "Dataset Information:\n",
            "Name: geoda.airbnb\n",
            "Description: Airbnb rentals, socioeconomics, and crime in Chicago\n",
            "Geometry Type: Polygon\n",
            "Number of Rows: 77\n"
          ]
        }
      ]
    }
  ]
}