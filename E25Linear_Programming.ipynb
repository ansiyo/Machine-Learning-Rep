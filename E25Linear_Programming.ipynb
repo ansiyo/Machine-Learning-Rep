{
  "cells": [
    {
      "cell_type": "markdown",
      "metadata": {
        "id": "view-in-github",
        "colab_type": "text"
      },
      "source": [
        "<a href=\"https://colab.research.google.com/github/ansiyo/Machine-Learning-Rep/blob/main/E25Linear_Programming.ipynb\" target=\"_parent\"><img src=\"https://colab.research.google.com/assets/colab-badge.svg\" alt=\"Open In Colab\"/></a>"
      ]
    },
    {
      "cell_type": "markdown",
      "metadata": {
        "id": "SHRl_FBrcG-r"
      },
      "source": [
        "<h2> Linear Programming using Pulp in Python </h2>\n",
        "\n",
        "In this demo, you will learn how to perform Linear Programming using Pulp in Python."
      ]
    },
    {
      "cell_type": "markdown",
      "metadata": {
        "id": "1tYC0VDDcG_C"
      },
      "source": [
        "# Problem Statement"
      ]
    },
    {
      "cell_type": "markdown",
      "metadata": {
        "id": "mandC0cGcG_F"
      },
      "source": [
        "A bakery bakes two types of cakes. Cake A requires <b>2 eggs</b> and <b>3 cups(cup measures 250gm) of flour</b> and cake B requires <b>4 eggs</b> and <b>2 cups of flour</b> respectively. Cake A sells for <b>₹45</b> and cake B sells for <b>₹30</b>. The bakery has a limited supply of <b>eggs</b> and <b>flour</b> which is <b>900 eggs</b> and <b>180.5 KG of flour</b>. How many cakes of each type should be baked to maximize profit?"
      ]
    },
    {
      "cell_type": "markdown",
      "metadata": {
        "id": "O5hNNzCwcG_J"
      },
      "source": [
        "![image.png](attachment:image.png)"
      ]
    },
    {
      "cell_type": "markdown",
      "metadata": {
        "id": "a3DIaZ4-cG_L"
      },
      "source": [
        "---"
      ]
    },
    {
      "cell_type": "markdown",
      "metadata": {
        "id": "Rj96HB2JcG_N"
      },
      "source": [
        "# Importing Libraries"
      ]
    },
    {
      "cell_type": "code",
      "execution_count": null,
      "metadata": {
        "id": "YPWTCkQEcG_Q"
      },
      "outputs": [],
      "source": [
        "import pulp as pl\n",
        "import pandas as pd"
      ]
    },
    {
      "cell_type": "markdown",
      "metadata": {
        "id": "fL4OBPSGcG_X"
      },
      "source": [
        "## Linear Programming"
      ]
    },
    {
      "cell_type": "markdown",
      "metadata": {
        "id": "7wyPAtqccG_Z"
      },
      "source": [
        "### Select Variables"
      ]
    },
    {
      "cell_type": "code",
      "execution_count": null,
      "metadata": {
        "id": "_Hs7l6G5cG_b"
      },
      "outputs": [],
      "source": [
        "#Define Linear programming status here\n",
        "max_profit = pl.LpProblem(\"Cake_Problem\",pl.LpMaximize)"
      ]
    },
    {
      "cell_type": "code",
      "execution_count": null,
      "metadata": {
        "id": "vSU34FqjcG_d"
      },
      "outputs": [],
      "source": [
        "#Since, x = no of corn for acre and y = no of corn for sugarcane\n",
        "CakeA = pl.LpVariable('CakeA', lowBound =0)\n",
        "CakeB = pl.LpVariable('CakeB',lowBound =0)"
      ]
    },
    {
      "cell_type": "markdown",
      "metadata": {
        "id": "xYG81CnwcG_g"
      },
      "source": [
        "### Objective Function"
      ]
    },
    {
      "cell_type": "code",
      "execution_count": null,
      "metadata": {
        "id": "DXf96GOUcG_i"
      },
      "outputs": [],
      "source": [
        "#Define maximum profit equation\n",
        "max_profit += 45 * CakeA + 30 * CakeB"
      ]
    },
    {
      "cell_type": "markdown",
      "metadata": {
        "id": "7IpclMFxcG_j"
      },
      "source": [
        "### List Constraints"
      ]
    },
    {
      "cell_type": "code",
      "execution_count": null,
      "metadata": {
        "id": "QhyvWmv4cG_k",
        "outputId": "69ff184c-5520-4f01-d3e5-c986d8bc694c"
      },
      "outputs": [
        {
          "data": {
            "text/plain": [
              "722.0"
            ]
          },
          "execution_count": 5,
          "metadata": {},
          "output_type": "execute_result"
        }
      ],
      "source": [
        "#convering amount of flour into number of cups\n",
        "ncups=(180.5*1000)/250\n",
        "ncups"
      ]
    },
    {
      "cell_type": "code",
      "execution_count": null,
      "metadata": {
        "id": "7LmCsrVecG_p"
      },
      "outputs": [],
      "source": [
        "max_profit += 2*CakeA + 4*CakeB <= 900\n",
        "max_profit += 3*CakeA + 2*CakeB <= ncups\n",
        "#Naturally number of cakes cannot be negative\n",
        "max_profit += CakeA >= 0\n",
        "max_profit += CakeB >= 0"
      ]
    },
    {
      "cell_type": "code",
      "execution_count": null,
      "metadata": {
        "id": "TQIiU2KPcG_r",
        "outputId": "87d6aa58-a80e-4ded-d901-23052b612fdc"
      },
      "outputs": [
        {
          "name": "stdout",
          "output_type": "stream",
          "text": [
            "Cake_Problem:\n",
            "MAXIMIZE\n",
            "45*CakeA + 30*CakeB + 0\n",
            "SUBJECT TO\n",
            "_C1: 2 CakeA + 4 CakeB <= 900\n",
            "\n",
            "_C2: 3 CakeA + 2 CakeB <= 722\n",
            "\n",
            "_C3: CakeA >= 0\n",
            "\n",
            "_C4: CakeB >= 0\n",
            "\n",
            "VARIABLES\n",
            "CakeA Continuous\n",
            "CakeB Continuous\n",
            "\n"
          ]
        }
      ],
      "source": [
        "#Print LP function here\n",
        "print(max_profit)"
      ]
    },
    {
      "cell_type": "code",
      "execution_count": null,
      "metadata": {
        "id": "KLJAkex4cG_s",
        "outputId": "d3677f98-cbba-4da0-8282-b2aa5481ef55"
      },
      "outputs": [
        {
          "name": "stdout",
          "output_type": "stream",
          "text": [
            "The status for this linear problem will be Optimal\n"
          ]
        }
      ],
      "source": [
        "#analyze status of Linear programming problem\n",
        "func_stat = max_profit.solve()\n",
        "print(\"The status for this linear problem will be {}\".format(pl.LpStatus[func_stat]))"
      ]
    },
    {
      "cell_type": "code",
      "execution_count": null,
      "metadata": {
        "id": "6mvLk79ycG_u",
        "outputId": "a6bc66a7-61f2-49c2-eecf-56b01096aac8"
      },
      "outputs": [
        {
          "name": "stdout",
          "output_type": "stream",
          "text": [
            "CakeA 136.0 \n",
            "CakeB 157.0 \n",
            "Max_Profit 10830.0\n"
          ]
        }
      ],
      "source": [
        "#Print all combination that satisfy constraints\n",
        "print('CakeA',pl.value(CakeA),'\\nCakeB',pl.value(CakeB),'\\nMax_Profit',pl.value(max_profit.objective),sep=' ')"
      ]
    },
    {
      "cell_type": "markdown",
      "metadata": {
        "id": "88UZftjkcG_w"
      },
      "source": [
        "*__Conclusion__*: In this demonstration, we have learned how to use linear programing in python using pulp."
      ]
    }
  ],
  "metadata": {
    "kernelspec": {
      "display_name": "Python 3",
      "language": "python",
      "name": "python3"
    },
    "language_info": {
      "codemirror_mode": {
        "name": "ipython",
        "version": 3
      },
      "file_extension": ".py",
      "mimetype": "text/x-python",
      "name": "python",
      "nbconvert_exporter": "python",
      "pygments_lexer": "ipython3",
      "version": "3.7.3"
    },
    "colab": {
      "provenance": [],
      "include_colab_link": true
    }
  },
  "nbformat": 4,
  "nbformat_minor": 0
}