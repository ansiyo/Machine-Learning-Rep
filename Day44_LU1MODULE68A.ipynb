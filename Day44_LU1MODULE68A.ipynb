{
  "cells": [
    {
      "cell_type": "markdown",
      "metadata": {
        "id": "view-in-github",
        "colab_type": "text"
      },
      "source": [
        "<a href=\"https://colab.research.google.com/github/ansiyo/Machine-Learning-Rep/blob/main/Day44_LU1MODULE68A.ipynb\" target=\"_parent\"><img src=\"https://colab.research.google.com/assets/colab-badge.svg\" alt=\"Open In Colab\"/></a>"
      ]
    },
    {
      "cell_type": "code",
      "execution_count": null,
      "id": "54e77b66",
      "metadata": {
        "id": "54e77b66",
        "outputId": "ec986540-379f-498c-ec43-88804ea3bfd0"
      },
      "outputs": [
        {
          "name": "stderr",
          "output_type": "stream",
          "text": [
            "[nltk_data] Downloading package punkt to\n",
            "[nltk_data]     C:\\Users\\navan\\AppData\\Roaming\\nltk_data...\n",
            "[nltk_data]   Package punkt is already up-to-date!\n"
          ]
        },
        {
          "data": {
            "text/plain": [
              "True"
            ]
          },
          "execution_count": 1,
          "metadata": {},
          "output_type": "execute_result"
        }
      ],
      "source": [
        "import nltk\n",
        "nltk.download(\"punkt\")"
      ]
    },
    {
      "cell_type": "code",
      "execution_count": null,
      "id": "28bd63c5",
      "metadata": {
        "id": "28bd63c5",
        "outputId": "59cd5add-0ae2-4071-dbf6-cb6c3f09dc42"
      },
      "outputs": [
        {
          "name": "stdout",
          "output_type": "stream",
          "text": [
            "ML can be seen as a time-saving device that allows humans to explore their more creative ambitions while ML is in the background crunching numbers\n"
          ]
        }
      ],
      "source": [
        "string = \"ML can be seen as a time-saving device that allows humans to explore their more creative ambitions while ML is in the background crunching numbers\"\n",
        "print(string)"
      ]
    },
    {
      "cell_type": "code",
      "execution_count": null,
      "id": "038da72e",
      "metadata": {
        "id": "038da72e",
        "outputId": "ae6eeb22-f986-47fc-9006-e2b709b48855"
      },
      "outputs": [
        {
          "data": {
            "text/plain": [
              "['ML',\n",
              " 'can',\n",
              " 'be',\n",
              " 'seen',\n",
              " 'as',\n",
              " 'a',\n",
              " 'time-saving',\n",
              " 'device',\n",
              " 'that',\n",
              " 'allows',\n",
              " 'humans',\n",
              " 'to',\n",
              " 'explore',\n",
              " 'their',\n",
              " 'more',\n",
              " 'creative',\n",
              " 'ambitions',\n",
              " 'while',\n",
              " 'ML',\n",
              " 'is',\n",
              " 'in',\n",
              " 'the',\n",
              " 'background',\n",
              " 'crunching',\n",
              " 'numbers']"
            ]
          },
          "execution_count": 3,
          "metadata": {},
          "output_type": "execute_result"
        }
      ],
      "source": [
        "unigram = nltk.word_tokenize(string)\n",
        "unigram"
      ]
    },
    {
      "cell_type": "code",
      "execution_count": null,
      "id": "b98495ef",
      "metadata": {
        "id": "b98495ef"
      },
      "outputs": [],
      "source": [
        "from nltk.util import bigrams,trigrams"
      ]
    },
    {
      "cell_type": "code",
      "execution_count": null,
      "id": "2577a859",
      "metadata": {
        "collapsed": true,
        "id": "2577a859",
        "outputId": "845e1aeb-be01-45d6-bdac-e532e94c9214"
      },
      "outputs": [
        {
          "data": {
            "text/plain": [
              "[('M', 'L'),\n",
              " ('L', ' '),\n",
              " (' ', 'c'),\n",
              " ('c', 'a'),\n",
              " ('a', 'n'),\n",
              " ('n', ' '),\n",
              " (' ', 'b'),\n",
              " ('b', 'e'),\n",
              " ('e', ' '),\n",
              " (' ', 's'),\n",
              " ('s', 'e'),\n",
              " ('e', 'e'),\n",
              " ('e', 'n'),\n",
              " ('n', ' '),\n",
              " (' ', 'a'),\n",
              " ('a', 's'),\n",
              " ('s', ' '),\n",
              " (' ', 'a'),\n",
              " ('a', ' '),\n",
              " (' ', 't'),\n",
              " ('t', 'i'),\n",
              " ('i', 'm'),\n",
              " ('m', 'e'),\n",
              " ('e', '-'),\n",
              " ('-', 's'),\n",
              " ('s', 'a'),\n",
              " ('a', 'v'),\n",
              " ('v', 'i'),\n",
              " ('i', 'n'),\n",
              " ('n', 'g'),\n",
              " ('g', ' '),\n",
              " (' ', 'd'),\n",
              " ('d', 'e'),\n",
              " ('e', 'v'),\n",
              " ('v', 'i'),\n",
              " ('i', 'c'),\n",
              " ('c', 'e'),\n",
              " ('e', ' '),\n",
              " (' ', 't'),\n",
              " ('t', 'h'),\n",
              " ('h', 'a'),\n",
              " ('a', 't'),\n",
              " ('t', ' '),\n",
              " (' ', 'a'),\n",
              " ('a', 'l'),\n",
              " ('l', 'l'),\n",
              " ('l', 'o'),\n",
              " ('o', 'w'),\n",
              " ('w', 's'),\n",
              " ('s', ' '),\n",
              " (' ', 'h'),\n",
              " ('h', 'u'),\n",
              " ('u', 'm'),\n",
              " ('m', 'a'),\n",
              " ('a', 'n'),\n",
              " ('n', 's'),\n",
              " ('s', ' '),\n",
              " (' ', 't'),\n",
              " ('t', 'o'),\n",
              " ('o', ' '),\n",
              " (' ', 'e'),\n",
              " ('e', 'x'),\n",
              " ('x', 'p'),\n",
              " ('p', 'l'),\n",
              " ('l', 'o'),\n",
              " ('o', 'r'),\n",
              " ('r', 'e'),\n",
              " ('e', ' '),\n",
              " (' ', 't'),\n",
              " ('t', 'h'),\n",
              " ('h', 'e'),\n",
              " ('e', 'i'),\n",
              " ('i', 'r'),\n",
              " ('r', ' '),\n",
              " (' ', 'm'),\n",
              " ('m', 'o'),\n",
              " ('o', 'r'),\n",
              " ('r', 'e'),\n",
              " ('e', ' '),\n",
              " (' ', 'c'),\n",
              " ('c', 'r'),\n",
              " ('r', 'e'),\n",
              " ('e', 'a'),\n",
              " ('a', 't'),\n",
              " ('t', 'i'),\n",
              " ('i', 'v'),\n",
              " ('v', 'e'),\n",
              " ('e', ' '),\n",
              " (' ', 'a'),\n",
              " ('a', 'm'),\n",
              " ('m', 'b'),\n",
              " ('b', 'i'),\n",
              " ('i', 't'),\n",
              " ('t', 'i'),\n",
              " ('i', 'o'),\n",
              " ('o', 'n'),\n",
              " ('n', 's'),\n",
              " ('s', ' '),\n",
              " (' ', 'w'),\n",
              " ('w', 'h'),\n",
              " ('h', 'i'),\n",
              " ('i', 'l'),\n",
              " ('l', 'e'),\n",
              " ('e', ' '),\n",
              " (' ', 'M'),\n",
              " ('M', 'L'),\n",
              " ('L', ' '),\n",
              " (' ', 'i'),\n",
              " ('i', 's'),\n",
              " ('s', ' '),\n",
              " (' ', 'i'),\n",
              " ('i', 'n'),\n",
              " ('n', ' '),\n",
              " (' ', 't'),\n",
              " ('t', 'h'),\n",
              " ('h', 'e'),\n",
              " ('e', ' '),\n",
              " (' ', 'b'),\n",
              " ('b', 'a'),\n",
              " ('a', 'c'),\n",
              " ('c', 'k'),\n",
              " ('k', 'g'),\n",
              " ('g', 'r'),\n",
              " ('r', 'o'),\n",
              " ('o', 'u'),\n",
              " ('u', 'n'),\n",
              " ('n', 'd'),\n",
              " ('d', ' '),\n",
              " (' ', 'c'),\n",
              " ('c', 'r'),\n",
              " ('r', 'u'),\n",
              " ('u', 'n'),\n",
              " ('n', 'c'),\n",
              " ('c', 'h'),\n",
              " ('h', 'i'),\n",
              " ('i', 'n'),\n",
              " ('n', 'g'),\n",
              " ('g', ' '),\n",
              " (' ', 'n'),\n",
              " ('n', 'u'),\n",
              " ('u', 'm'),\n",
              " ('m', 'b'),\n",
              " ('b', 'e'),\n",
              " ('e', 'r'),\n",
              " ('r', 's')]"
            ]
          },
          "execution_count": 5,
          "metadata": {},
          "output_type": "execute_result"
        }
      ],
      "source": [
        "bigram = list(bigrams(string))\n",
        "bigram"
      ]
    },
    {
      "cell_type": "code",
      "execution_count": null,
      "id": "15ff1dae",
      "metadata": {
        "id": "15ff1dae"
      },
      "outputs": [],
      "source": [
        "bigram = list(bigrams(unigram))"
      ]
    },
    {
      "cell_type": "code",
      "execution_count": null,
      "id": "1d599877",
      "metadata": {
        "id": "1d599877",
        "outputId": "dcbf3241-66d2-4acd-a12d-d6cb692de081"
      },
      "outputs": [
        {
          "data": {
            "text/plain": [
              "[('ML', 'can'),\n",
              " ('can', 'be'),\n",
              " ('be', 'seen'),\n",
              " ('seen', 'as'),\n",
              " ('as', 'a'),\n",
              " ('a', 'time-saving'),\n",
              " ('time-saving', 'device'),\n",
              " ('device', 'that'),\n",
              " ('that', 'allows'),\n",
              " ('allows', 'humans'),\n",
              " ('humans', 'to'),\n",
              " ('to', 'explore'),\n",
              " ('explore', 'their'),\n",
              " ('their', 'more'),\n",
              " ('more', 'creative'),\n",
              " ('creative', 'ambitions'),\n",
              " ('ambitions', 'while'),\n",
              " ('while', 'ML'),\n",
              " ('ML', 'is'),\n",
              " ('is', 'in'),\n",
              " ('in', 'the'),\n",
              " ('the', 'background'),\n",
              " ('background', 'crunching'),\n",
              " ('crunching', 'numbers')]"
            ]
          },
          "execution_count": 11,
          "metadata": {},
          "output_type": "execute_result"
        }
      ],
      "source": [
        "bigram"
      ]
    },
    {
      "cell_type": "code",
      "execution_count": null,
      "id": "923619b8",
      "metadata": {
        "id": "923619b8",
        "outputId": "8cd5b3ee-60e0-4d02-ff29-4ccb1bd954a1"
      },
      "outputs": [
        {
          "data": {
            "text/plain": [
              "[('ML', 'can', 'be'),\n",
              " ('can', 'be', 'seen'),\n",
              " ('be', 'seen', 'as'),\n",
              " ('seen', 'as', 'a'),\n",
              " ('as', 'a', 'time-saving'),\n",
              " ('a', 'time-saving', 'device'),\n",
              " ('time-saving', 'device', 'that'),\n",
              " ('device', 'that', 'allows'),\n",
              " ('that', 'allows', 'humans'),\n",
              " ('allows', 'humans', 'to'),\n",
              " ('humans', 'to', 'explore'),\n",
              " ('to', 'explore', 'their'),\n",
              " ('explore', 'their', 'more'),\n",
              " ('their', 'more', 'creative'),\n",
              " ('more', 'creative', 'ambitions'),\n",
              " ('creative', 'ambitions', 'while'),\n",
              " ('ambitions', 'while', 'ML'),\n",
              " ('while', 'ML', 'is'),\n",
              " ('ML', 'is', 'in'),\n",
              " ('is', 'in', 'the'),\n",
              " ('in', 'the', 'background'),\n",
              " ('the', 'background', 'crunching'),\n",
              " ('background', 'crunching', 'numbers')]"
            ]
          },
          "execution_count": 12,
          "metadata": {},
          "output_type": "execute_result"
        }
      ],
      "source": [
        "list(trigrams(unigram))"
      ]
    },
    {
      "cell_type": "code",
      "execution_count": null,
      "id": "40c317b5",
      "metadata": {
        "id": "40c317b5"
      },
      "outputs": [],
      "source": []
    }
  ],
  "metadata": {
    "kernelspec": {
      "display_name": "Python 3 (ipykernel)",
      "language": "python",
      "name": "python3"
    },
    "language_info": {
      "codemirror_mode": {
        "name": "ipython",
        "version": 3
      },
      "file_extension": ".py",
      "mimetype": "text/x-python",
      "name": "python",
      "nbconvert_exporter": "python",
      "pygments_lexer": "ipython3",
      "version": "3.9.7"
    },
    "colab": {
      "provenance": [],
      "include_colab_link": true
    }
  },
  "nbformat": 4,
  "nbformat_minor": 5
}